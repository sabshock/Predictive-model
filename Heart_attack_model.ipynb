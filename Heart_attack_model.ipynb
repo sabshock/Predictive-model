{
 "cells": [
  {
   "cell_type": "markdown",
   "id": "bd7b461f",
   "metadata": {
    "id": "bd7b461f"
   },
   "source": [
    "# Heart Attack Analysis and Prediction"
   ]
  },
  {
   "cell_type": "markdown",
   "id": "35f22003",
   "metadata": {
    "id": "35f22003"
   },
   "source": [
    "### Problem Statment"
   ]
  },
  {
   "cell_type": "markdown",
   "id": "b7db125c",
   "metadata": {
    "id": "b7db125c"
   },
   "source": [
    "#### Its important to identify high risk patients by the multiple risk factors such as diabetes, high blood pressure, high cholesterol, etc which is currently achieved by Medical Staffs, which may cause Human Errors while prediction.\n",
    "#### Our goal is to predict patient with high risk of heart attack"
   ]
  },
  {
   "cell_type": "code",
   "execution_count": 108,
   "id": "c7bcb7fa",
   "metadata": {
    "colab": {
     "base_uri": "https://localhost:8080/"
    },
    "id": "c7bcb7fa",
    "outputId": "92e04fa1-417a-425b-f9bf-70a0adb36cad"
   },
   "outputs": [
    {
     "name": "stdout",
     "output_type": "stream",
     "text": [
      "Drive already mounted at /content/drive; to attempt to forcibly remount, call drive.mount(\"/content/drive\", force_remount=True).\n"
     ]
    }
   ],
   "source": [
    "import numpy as np\n",
    "import pandas as pd\n",
    "from pandas import DataFrame as DF\n",
    "import matplotlib.pyplot as plt\n",
    "import seaborn as sns\n",
    "from warnings import filterwarnings\n",
    "%matplotlib inline\n",
    "sns.set(color_codes=True)\n",
    "plt.rcParams['figure.figsize'] = (10,5)\n",
    "filterwarnings('ignore')\n",
    "plt.rcParams['figure.facecolor'] = 'papayawhip'\n",
    "import matplotlib.image as mpimg\n",
    "from matplotlib.offsetbox import (TextArea, DrawingArea, OffsetImage,\n",
    "                                  AnnotationBbox)\n",
    "from google.colab import drive\n",
    "drive.mount('/content/drive')\n",
    "path = \"/content/drive/MyDrive/heart_unclean.csv\""
   ]
  },
  {
   "cell_type": "markdown",
   "id": "1eb21670",
   "metadata": {
    "id": "1eb21670"
   },
   "source": [
    "1. age - age in years\n",
    "\n",
    "2. sex - sex (1 = male; 0 = female)\n",
    "\n",
    "3. cp - chest pain type (1 = typical angina; 2 = atypical angina; 3 = non-anginal pain; 0 = asymptomatic)\n",
    "\n",
    "4. trtbps - resting blood pressure (in mm Hg on admission to the hospital) systolic.\n",
    "\n",
    "5. chol - serum cholestoral in mg/dl\n",
    "\n",
    "6. fbs - fasting blood sugar > 120 mg/dl (1 = true; 0 = false)\n",
    "\n",
    "7. restecg - resting electrocardiographic results (0 = normal; 1 = having ST-T wave abnormality; 2 = hypertrophy( Thicken of ventricule by cholestrol))\n",
    "\n",
    "8. thalach - maximum heart rate achieved\n",
    "\n",
    "9. exng - exercise induced angina (1 = yes; 0 = no)\n",
    "\n",
    "10. oldpeak - ST depression induced by exercise relative to rest (mm)\n",
    "\n",
    "11. slp - the slope of the peak exercise ST segment (0 = upsloping; 1 = flat; 2 = downsloping) (Exercise tolerance testing)\n",
    "\n",
    "12. caa - number of major vessels (0-3) colored by flourosopy\n",
    "\n",
    "13. thal - 1 = normal; 2 = fixed defect; 3 = reversable defect (thallium stress test)\n",
    "\n",
    "\n",
    "14. output - the predicted attribute - diagnosis of heart disease (angiographic disease status) \n",
    "(Value 0 , Value 1  )"
   ]
  },
  {
   "cell_type": "code",
   "execution_count": 109,
   "id": "19d61f3b",
   "metadata": {
    "colab": {
     "base_uri": "https://localhost:8080/",
     "height": 206
    },
    "id": "19d61f3b",
    "outputId": "3b3e251e-afa2-41fd-eeb7-5f2b76e3dc9e"
   },
   "outputs": [
    {
     "data": {
      "text/html": [
       "\n",
       "  <div id=\"df-9cfad3eb-fe39-401b-816e-5d486bd57c32\">\n",
       "    <div class=\"colab-df-container\">\n",
       "      <div>\n",
       "<style scoped>\n",
       "    .dataframe tbody tr th:only-of-type {\n",
       "        vertical-align: middle;\n",
       "    }\n",
       "\n",
       "    .dataframe tbody tr th {\n",
       "        vertical-align: top;\n",
       "    }\n",
       "\n",
       "    .dataframe thead th {\n",
       "        text-align: right;\n",
       "    }\n",
       "</style>\n",
       "<table border=\"1\" class=\"dataframe\">\n",
       "  <thead>\n",
       "    <tr style=\"text-align: right;\">\n",
       "      <th></th>\n",
       "      <th>age</th>\n",
       "      <th>sex</th>\n",
       "      <th>cp</th>\n",
       "      <th>trtbps</th>\n",
       "      <th>chol</th>\n",
       "      <th>fbs</th>\n",
       "      <th>restecg</th>\n",
       "      <th>thalachh</th>\n",
       "      <th>exng</th>\n",
       "      <th>oldpeak</th>\n",
       "      <th>slp</th>\n",
       "      <th>caa</th>\n",
       "      <th>thall</th>\n",
       "      <th>output</th>\n",
       "    </tr>\n",
       "  </thead>\n",
       "  <tbody>\n",
       "    <tr>\n",
       "      <th>0</th>\n",
       "      <td>63</td>\n",
       "      <td>1</td>\n",
       "      <td>asymptomatic</td>\n",
       "      <td>145</td>\n",
       "      <td>233</td>\n",
       "      <td>True</td>\n",
       "      <td>0</td>\n",
       "      <td>150</td>\n",
       "      <td>0</td>\n",
       "      <td>2.3</td>\n",
       "      <td>upsloping</td>\n",
       "      <td>0.0</td>\n",
       "      <td>1.0</td>\n",
       "      <td>1</td>\n",
       "    </tr>\n",
       "    <tr>\n",
       "      <th>1</th>\n",
       "      <td>37</td>\n",
       "      <td>1</td>\n",
       "      <td>non-anginal pain</td>\n",
       "      <td>130</td>\n",
       "      <td>250</td>\n",
       "      <td>False</td>\n",
       "      <td>1</td>\n",
       "      <td>187</td>\n",
       "      <td>0</td>\n",
       "      <td>3.5</td>\n",
       "      <td>upsloping</td>\n",
       "      <td>0.0</td>\n",
       "      <td>2.0</td>\n",
       "      <td>1</td>\n",
       "    </tr>\n",
       "    <tr>\n",
       "      <th>2</th>\n",
       "      <td>41</td>\n",
       "      <td>0</td>\n",
       "      <td>atypical angina</td>\n",
       "      <td>130</td>\n",
       "      <td>204</td>\n",
       "      <td>False</td>\n",
       "      <td>0</td>\n",
       "      <td>172</td>\n",
       "      <td>0</td>\n",
       "      <td>1.4</td>\n",
       "      <td>downsloping</td>\n",
       "      <td>0.0</td>\n",
       "      <td>2.0</td>\n",
       "      <td>1</td>\n",
       "    </tr>\n",
       "    <tr>\n",
       "      <th>3</th>\n",
       "      <td>56</td>\n",
       "      <td>1</td>\n",
       "      <td>atypical angina</td>\n",
       "      <td>120</td>\n",
       "      <td>236</td>\n",
       "      <td>False</td>\n",
       "      <td>1</td>\n",
       "      <td>178</td>\n",
       "      <td>0</td>\n",
       "      <td>0.8</td>\n",
       "      <td>downsloping</td>\n",
       "      <td>0.0</td>\n",
       "      <td>2.0</td>\n",
       "      <td>1</td>\n",
       "    </tr>\n",
       "    <tr>\n",
       "      <th>4</th>\n",
       "      <td>57</td>\n",
       "      <td>0</td>\n",
       "      <td>typical angina</td>\n",
       "      <td>120</td>\n",
       "      <td>354</td>\n",
       "      <td>False</td>\n",
       "      <td>1</td>\n",
       "      <td>163</td>\n",
       "      <td>1</td>\n",
       "      <td>0.6</td>\n",
       "      <td>downsloping</td>\n",
       "      <td>0.0</td>\n",
       "      <td>2.0</td>\n",
       "      <td>1</td>\n",
       "    </tr>\n",
       "  </tbody>\n",
       "</table>\n",
       "</div>\n",
       "      <button class=\"colab-df-convert\" onclick=\"convertToInteractive('df-9cfad3eb-fe39-401b-816e-5d486bd57c32')\"\n",
       "              title=\"Convert this dataframe to an interactive table.\"\n",
       "              style=\"display:none;\">\n",
       "        \n",
       "  <svg xmlns=\"http://www.w3.org/2000/svg\" height=\"24px\"viewBox=\"0 0 24 24\"\n",
       "       width=\"24px\">\n",
       "    <path d=\"M0 0h24v24H0V0z\" fill=\"none\"/>\n",
       "    <path d=\"M18.56 5.44l.94 2.06.94-2.06 2.06-.94-2.06-.94-.94-2.06-.94 2.06-2.06.94zm-11 1L8.5 8.5l.94-2.06 2.06-.94-2.06-.94L8.5 2.5l-.94 2.06-2.06.94zm10 10l.94 2.06.94-2.06 2.06-.94-2.06-.94-.94-2.06-.94 2.06-2.06.94z\"/><path d=\"M17.41 7.96l-1.37-1.37c-.4-.4-.92-.59-1.43-.59-.52 0-1.04.2-1.43.59L10.3 9.45l-7.72 7.72c-.78.78-.78 2.05 0 2.83L4 21.41c.39.39.9.59 1.41.59.51 0 1.02-.2 1.41-.59l7.78-7.78 2.81-2.81c.8-.78.8-2.07 0-2.86zM5.41 20L4 18.59l7.72-7.72 1.47 1.35L5.41 20z\"/>\n",
       "  </svg>\n",
       "      </button>\n",
       "      \n",
       "  <style>\n",
       "    .colab-df-container {\n",
       "      display:flex;\n",
       "      flex-wrap:wrap;\n",
       "      gap: 12px;\n",
       "    }\n",
       "\n",
       "    .colab-df-convert {\n",
       "      background-color: #E8F0FE;\n",
       "      border: none;\n",
       "      border-radius: 50%;\n",
       "      cursor: pointer;\n",
       "      display: none;\n",
       "      fill: #1967D2;\n",
       "      height: 32px;\n",
       "      padding: 0 0 0 0;\n",
       "      width: 32px;\n",
       "    }\n",
       "\n",
       "    .colab-df-convert:hover {\n",
       "      background-color: #E2EBFA;\n",
       "      box-shadow: 0px 1px 2px rgba(60, 64, 67, 0.3), 0px 1px 3px 1px rgba(60, 64, 67, 0.15);\n",
       "      fill: #174EA6;\n",
       "    }\n",
       "\n",
       "    [theme=dark] .colab-df-convert {\n",
       "      background-color: #3B4455;\n",
       "      fill: #D2E3FC;\n",
       "    }\n",
       "\n",
       "    [theme=dark] .colab-df-convert:hover {\n",
       "      background-color: #434B5C;\n",
       "      box-shadow: 0px 1px 3px 1px rgba(0, 0, 0, 0.15);\n",
       "      filter: drop-shadow(0px 1px 2px rgba(0, 0, 0, 0.3));\n",
       "      fill: #FFFFFF;\n",
       "    }\n",
       "  </style>\n",
       "\n",
       "      <script>\n",
       "        const buttonEl =\n",
       "          document.querySelector('#df-9cfad3eb-fe39-401b-816e-5d486bd57c32 button.colab-df-convert');\n",
       "        buttonEl.style.display =\n",
       "          google.colab.kernel.accessAllowed ? 'block' : 'none';\n",
       "\n",
       "        async function convertToInteractive(key) {\n",
       "          const element = document.querySelector('#df-9cfad3eb-fe39-401b-816e-5d486bd57c32');\n",
       "          const dataTable =\n",
       "            await google.colab.kernel.invokeFunction('convertToInteractive',\n",
       "                                                     [key], {});\n",
       "          if (!dataTable) return;\n",
       "\n",
       "          const docLinkHtml = 'Like what you see? Visit the ' +\n",
       "            '<a target=\"_blank\" href=https://colab.research.google.com/notebooks/data_table.ipynb>data table notebook</a>'\n",
       "            + ' to learn more about interactive tables.';\n",
       "          element.innerHTML = '';\n",
       "          dataTable['output_type'] = 'display_data';\n",
       "          await google.colab.output.renderOutput(dataTable, element);\n",
       "          const docLink = document.createElement('div');\n",
       "          docLink.innerHTML = docLinkHtml;\n",
       "          element.appendChild(docLink);\n",
       "        }\n",
       "      </script>\n",
       "    </div>\n",
       "  </div>\n",
       "  "
      ],
      "text/plain": [
       "   age  sex                cp  trtbps  chol    fbs  restecg  thalachh  exng  \\\n",
       "0   63    1      asymptomatic     145   233   True        0       150     0   \n",
       "1   37    1  non-anginal pain     130   250  False        1       187     0   \n",
       "2   41    0   atypical angina     130   204  False        0       172     0   \n",
       "3   56    1   atypical angina     120   236  False        1       178     0   \n",
       "4   57    0    typical angina     120   354  False        1       163     1   \n",
       "\n",
       "   oldpeak          slp  caa  thall  output  \n",
       "0      2.3    upsloping  0.0    1.0       1  \n",
       "1      3.5    upsloping  0.0    2.0       1  \n",
       "2      1.4  downsloping  0.0    2.0       1  \n",
       "3      0.8  downsloping  0.0    2.0       1  \n",
       "4      0.6  downsloping  0.0    2.0       1  "
      ]
     },
     "execution_count": 109,
     "metadata": {},
     "output_type": "execute_result"
    }
   ],
   "source": [
    "heart = pd.read_csv(path)\n",
    "heart.head()"
   ]
  },
  {
   "cell_type": "code",
   "execution_count": 113,
   "id": "518e218d",
   "metadata": {
    "id": "518e218d"
   },
   "outputs": [],
   "source": [
    "df = heart.copy()"
   ]
  },
  {
   "cell_type": "markdown",
   "id": "4d0f5c44",
   "metadata": {
    "id": "4d0f5c44"
   },
   "source": [
    "# Understanding the data"
   ]
  },
  {
   "cell_type": "code",
   "execution_count": 4,
   "id": "be92335f",
   "metadata": {
    "colab": {
     "base_uri": "https://localhost:8080/"
    },
    "id": "be92335f",
    "outputId": "e8dc6cf6-4bdd-4d1d-bb70-81a31202055e"
   },
   "outputs": [
    {
     "name": "stdout",
     "output_type": "stream",
     "text": [
      "<class 'pandas.core.frame.DataFrame'>\n",
      "RangeIndex: 303 entries, 0 to 302\n",
      "Data columns (total 14 columns):\n",
      " #   Column    Non-Null Count  Dtype  \n",
      "---  ------    --------------  -----  \n",
      " 0   age       303 non-null    int64  \n",
      " 1   sex       303 non-null    int64  \n",
      " 2   cp        303 non-null    object \n",
      " 3   trtbps    303 non-null    int64  \n",
      " 4   chol      303 non-null    int64  \n",
      " 5   fbs       303 non-null    bool   \n",
      " 6   restecg   303 non-null    int64  \n",
      " 7   thalachh  303 non-null    int64  \n",
      " 8   exng      303 non-null    int64  \n",
      " 9   oldpeak   303 non-null    float64\n",
      " 10  slp       303 non-null    object \n",
      " 11  caa       298 non-null    float64\n",
      " 12  thall     301 non-null    float64\n",
      " 13  output    303 non-null    int64  \n",
      "dtypes: bool(1), float64(3), int64(8), object(2)\n",
      "memory usage: 31.2+ KB\n"
     ]
    }
   ],
   "source": [
    "heart.info()"
   ]
  },
  {
   "cell_type": "code",
   "execution_count": 5,
   "id": "d00a846e",
   "metadata": {
    "colab": {
     "base_uri": "https://localhost:8080/"
    },
    "id": "d00a846e",
    "outputId": "f289a85d-45c6-427e-fdd4-6de647a1cd40"
   },
   "outputs": [
    {
     "data": {
      "text/plain": [
       "(303, 14)"
      ]
     },
     "execution_count": 5,
     "metadata": {},
     "output_type": "execute_result"
    }
   ],
   "source": [
    "heart.shape"
   ]
  },
  {
   "cell_type": "code",
   "execution_count": 6,
   "id": "e4193c99",
   "metadata": {
    "colab": {
     "base_uri": "https://localhost:8080/"
    },
    "id": "e4193c99",
    "outputId": "277b4f72-ee7c-40ff-950a-9641fab57059"
   },
   "outputs": [
    {
     "data": {
      "text/plain": [
       "age          41\n",
       "sex           2\n",
       "cp            4\n",
       "trtbps       49\n",
       "chol        152\n",
       "fbs           2\n",
       "restecg       3\n",
       "thalachh     91\n",
       "exng          2\n",
       "oldpeak      40\n",
       "slp           3\n",
       "caa           4\n",
       "thall         3\n",
       "output        2\n",
       "dtype: int64"
      ]
     },
     "execution_count": 6,
     "metadata": {},
     "output_type": "execute_result"
    }
   ],
   "source": [
    "heart.nunique()"
   ]
  },
  {
   "cell_type": "code",
   "execution_count": 7,
   "id": "7142b66d",
   "metadata": {
    "colab": {
     "base_uri": "https://localhost:8080/"
    },
    "id": "7142b66d",
    "outputId": "922e9d9c-be1d-4316-efa0-9c35b548a2d0"
   },
   "outputs": [
    {
     "data": {
      "text/plain": [
       "age         0\n",
       "sex         0\n",
       "cp          0\n",
       "trtbps      0\n",
       "chol        0\n",
       "fbs         0\n",
       "restecg     0\n",
       "thalachh    0\n",
       "exng        0\n",
       "oldpeak     0\n",
       "slp         0\n",
       "caa         5\n",
       "thall       2\n",
       "output      0\n",
       "dtype: int64"
      ]
     },
     "execution_count": 7,
     "metadata": {},
     "output_type": "execute_result"
    }
   ],
   "source": [
    "heart.isnull().sum()"
   ]
  },
  {
   "cell_type": "markdown",
   "id": "a59a4fc0",
   "metadata": {
    "id": "a59a4fc0"
   },
   "source": [
    "### Null value Treatment"
   ]
  },
  {
   "cell_type": "code",
   "execution_count": 8,
   "id": "964032d7",
   "metadata": {
    "colab": {
     "base_uri": "https://localhost:8080/"
    },
    "id": "964032d7",
    "outputId": "11c6c4eb-d1e4-4157-a0c2-209930dce038"
   },
   "outputs": [
    {
     "data": {
      "text/plain": [
       "92     1\n",
       "158    1\n",
       "163    1\n",
       "164    1\n",
       "251    0\n",
       "Name: output, dtype: int64"
      ]
     },
     "execution_count": 8,
     "metadata": {},
     "output_type": "execute_result"
    }
   ],
   "source": [
    "heart[heart.caa.isnull()].output"
   ]
  },
  {
   "cell_type": "markdown",
   "id": "e1e85e82",
   "metadata": {
    "id": "e1e85e82"
   },
   "source": [
    "Null value of categarical column is mostly of output = 1 so we imputted with the mode of the column"
   ]
  },
  {
   "cell_type": "code",
   "execution_count": 9,
   "id": "860017af",
   "metadata": {
    "colab": {
     "base_uri": "https://localhost:8080/"
    },
    "id": "860017af",
    "outputId": "1139e623-e395-4756-d2ff-36e6671801ed"
   },
   "outputs": [
    {
     "data": {
      "text/plain": [
       "0.0    130\n",
       "1.0     21\n",
       "2.0      7\n",
       "3.0      3\n",
       "Name: caa, dtype: int64"
      ]
     },
     "execution_count": 9,
     "metadata": {},
     "output_type": "execute_result"
    }
   ],
   "source": [
    "heart[heart.output == 1].caa.value_counts()"
   ]
  },
  {
   "cell_type": "code",
   "execution_count": 110,
   "id": "9733ef6a",
   "metadata": {
    "id": "9733ef6a"
   },
   "outputs": [],
   "source": [
    "df['caa'].fillna(0,inplace=True)"
   ]
  },
  {
   "cell_type": "code",
   "execution_count": 11,
   "id": "ed6d0000",
   "metadata": {
    "colab": {
     "base_uri": "https://localhost:8080/"
    },
    "id": "ed6d0000",
    "outputId": "a85e99f3-784f-4925-fa0e-71f9f77f869b"
   },
   "outputs": [
    {
     "data": {
      "text/plain": [
       "48     1\n",
       "281    0\n",
       "Name: output, dtype: int64"
      ]
     },
     "execution_count": 11,
     "metadata": {},
     "output_type": "execute_result"
    }
   ],
   "source": [
    "heart[heart.thall.isnull()].output"
   ]
  },
  {
   "cell_type": "code",
   "execution_count": 12,
   "id": "4518e572",
   "metadata": {
    "colab": {
     "base_uri": "https://localhost:8080/"
    },
    "id": "4518e572",
    "outputId": "0b1ac4f2-6878-4827-a388-2cc7431f1671"
   },
   "outputs": [
    {
     "data": {
      "text/plain": [
       "(2.0    130\n",
       " 3.0     28\n",
       " 1.0      6\n",
       " Name: thall, dtype: int64, 3.0    89\n",
       " 2.0    36\n",
       " 1.0    12\n",
       " Name: thall, dtype: int64)"
      ]
     },
     "execution_count": 12,
     "metadata": {},
     "output_type": "execute_result"
    }
   ],
   "source": [
    "heart[heart.output == 1].thall.value_counts(),heart[heart.output == 0].thall.value_counts()"
   ]
  },
  {
   "cell_type": "code",
   "execution_count": 111,
   "id": "92268e5b",
   "metadata": {
    "id": "92268e5b"
   },
   "outputs": [],
   "source": [
    "df.iloc[48,-2] = 2\n",
    "df.iloc[281,-2] = 3"
   ]
  },
  {
   "cell_type": "code",
   "execution_count": 112,
   "id": "58da7e2b",
   "metadata": {
    "colab": {
     "base_uri": "https://localhost:8080/"
    },
    "id": "58da7e2b",
    "outputId": "6844a063-2c73-4b43-81c2-b7a05408492f"
   },
   "outputs": [
    {
     "data": {
      "text/plain": [
       "age         0\n",
       "sex         0\n",
       "cp          0\n",
       "trtbps      0\n",
       "chol        0\n",
       "fbs         0\n",
       "restecg     0\n",
       "thalachh    0\n",
       "exng        0\n",
       "oldpeak     0\n",
       "slp         0\n",
       "caa         0\n",
       "thall       0\n",
       "output      0\n",
       "dtype: int64"
      ]
     },
     "execution_count": 112,
     "metadata": {},
     "output_type": "execute_result"
    }
   ],
   "source": [
    "df.isnull().sum()"
   ]
  },
  {
   "cell_type": "code",
   "execution_count": 15,
   "id": "de1a32a9",
   "metadata": {
    "id": "de1a32a9"
   },
   "outputs": [],
   "source": [
    "h_cat = df[['sex','cp','fbs','restecg','exng','slp','caa','thall','output']]\n",
    "h_num = df[['age','trtbps','chol','thalachh','oldpeak']]\n",
    "target = df[['output']]"
   ]
  },
  {
   "cell_type": "markdown",
   "id": "fb8a6588",
   "metadata": {
    "id": "fb8a6588"
   },
   "source": [
    "# Univarient Analysis"
   ]
  },
  {
   "cell_type": "markdown",
   "id": "3c7cbfea",
   "metadata": {
    "id": "3c7cbfea"
   },
   "source": [
    "### Categorical Features Visualization"
   ]
  },
  {
   "cell_type": "code",
   "execution_count": 114,
   "id": "31ed382a",
   "metadata": {
    "colab": {
     "base_uri": "https://localhost:8080/",
     "height": 344
    },
    "id": "31ed382a",
    "outputId": "e89a0257-5ea6-4408-c07d-52a7fc7e310e"
   },
   "outputs": [
    {
     "data": {
      "image/png": "[encoded data removed]",
      "text/plain": [
       "<Figure size 1080x360 with 2 Axes>"
      ]
     },
     "metadata": {},
     "output_type": "display_data"
    }
   ],
   "source": [
    "fig,(ax0,ax1) = plt.subplots(1,2,figsize=(15,5))\n",
    "gs = fig.add_gridspec(1,2)\n",
    "gs.update(wspace=0.5, hspace=0.5)\n",
    "background_color = \"lightcyan\"\n",
    "#fig.patch.set_facecolor(background_color)\n",
    "color_palette = [\"#800000\",\"#8000ff\",\"#6aac90\",\"#5833ff\",\"#da8829\"]\n",
    "\n",
    "\n",
    "# Title\n",
    "#ax0.patch.set_facecolor(background_color)\n",
    "ax0.text(0.5,0.5,'Count plot for Target Variable\\n_________________',\n",
    "        horizontalalignment = 'center',\n",
    "        verticalalignment = 'center',\n",
    "        fontsize = 20,\n",
    "        fontweight='bold',\n",
    "        fontfamily='serif',\n",
    "        color='#000000')\n",
    "\n",
    "#ax0.spines[[\"bottom\",'top','right','left']].set_visible(False)\n",
    "ax0.set_xticklabels([])\n",
    "ax0.set_yticklabels([])\n",
    "ax0.tick_params(left=False, bottom=False)\n",
    "path = \"../input/Predictive-model/image.png\"\n",
    "character_img = mpimg.imread(path)\n",
    "imagebox = OffsetImage(character_img, zoom=0.5)\n",
    "xy = (.05, .1)\n",
    "ab = AnnotationBbox(imagebox, xy,xybox=(.8,.25))\n",
    "ax0.add_artist(ab)\n",
    "\n",
    "# output count\n",
    "\n",
    "ax1.text(0.3, 180, 'Output', fontsize=14, fontweight='bold', fontfamily='serif', color=\"#000000\")\n",
    "ax1.text(0.0, 160, '138', fontsize=14, fontweight='bold', fontfamily='serif', color=\"#000000\")\n",
    "ax1.text(0.8, 170, '165', fontsize=14, fontweight='bold', fontfamily='serif', color=\"#000000\")\n",
    "ax1.grid(color='#000000', linestyle=':', axis='y', zorder=0,  dashes=(1,5))\n",
    "sns.countplot(ax=ax1,data=df,x='output',palette=['slategray','indigo'])\n",
    "ax1.set_xlabel(\"\")\n",
    "ax1.set_ylabel(\"\")\n",
    "ax1.set_xticklabels([\"Low chances of attack(0)\",\"High chances of attack(1)\"]);"
   ]
  },
  {
   "cell_type": "code",
   "execution_count": 18,
   "id": "a39139c3",
   "metadata": {
    "colab": {
     "base_uri": "https://localhost:8080/"
    },
    "id": "a39139c3",
    "outputId": "078b6c8b-7ed0-4721-fd56-a12ed855ecf0"
   },
   "outputs": [
    {
     "data": {
      "text/plain": [
       "1    54.455446\n",
       "0    45.544554\n",
       "Name: output, dtype: float64"
      ]
     },
     "execution_count": 18,
     "metadata": {},
     "output_type": "execute_result"
    }
   ],
   "source": [
    "df.output.value_counts(normalize = True)*100"
   ]
  },
  {
   "cell_type": "code",
   "execution_count": 19,
   "id": "ed382d7c",
   "metadata": {
    "colab": {
     "base_uri": "https://localhost:8080/",
     "height": 320
    },
    "id": "ed382d7c",
    "outputId": "d504965c-9973-407d-e239-52ae90da975e"
   },
   "outputs": [
    {
     "data": {
      "image/png": "[encoded data removed]",
      "text/plain": [
       "<Figure size 1080x360 with 2 Axes>"
      ]
     },
     "metadata": {},
     "output_type": "display_data"
    }
   ],
   "source": [
    "v = (df.groupby('sex').output.value_counts(normalize = True)*100)\n",
    "plt.subplots(figsize=(15,5))\n",
    "plt.subplot(121)\n",
    "v[0].plot.pie(autopct = '%i%%',explode = [0.0,0.05],labels=[\"Low chances of attack(0)\",\"High chances of attack(1)\"],startangle=90,fontsize=15)\n",
    "plt.xticks([])\n",
    "plt.title('Female',fontsize=14, fontweight='bold', fontfamily='serif', color=\"#000000\")\n",
    "plt.subplot(122)\n",
    "v[1].plot.pie(autopct = '%i%%',explode = [0.0,0.05],labels=[\"Low chances of attack(0)\",\"High chances of attack(1)\"],startangle=110,fontsize=15)\n",
    "plt.title('Male',fontsize=14, fontweight='bold', fontfamily='serif', color=\"#000000\");"
   ]
  },
  {
   "cell_type": "markdown",
   "id": "e06f9694",
   "metadata": {
    "id": "e06f9694"
   },
   "source": [
    "Proportion of male getting heart attacks are High\\\n",
    "Male - 44%\\\n",
    "Female - 25%"
   ]
  },
  {
   "cell_type": "markdown",
   "id": "fc6635bd",
   "metadata": {
    "id": "fc6635bd"
   },
   "source": [
    "## Count plot of Various categorical Features"
   ]
  },
  {
   "cell_type": "code",
   "execution_count": 20,
   "id": "72eb27be",
   "metadata": {
    "colab": {
     "base_uri": "https://localhost:8080/"
    },
    "id": "72eb27be",
    "outputId": "40dd7aa2-f858-4de5-e1a7-bdac6b2c605a"
   },
   "outputs": [
    {
     "data": {
      "text/plain": [
       "['sex', 'cp', 'fbs', 'restecg', 'exng', 'slp', 'caa', 'thall', 'output']"
      ]
     },
     "execution_count": 20,
     "metadata": {},
     "output_type": "execute_result"
    }
   ],
   "source": [
    "['sex','cp','fbs','restecg','exng','slp','caa','thall','output']"
   ]
  },
  {
   "cell_type": "code",
   "execution_count": 115,
   "id": "6cff20fb",
   "metadata": {
    "colab": {
     "base_uri": "https://localhost:8080/",
     "height": 897
    },
    "id": "6cff20fb",
    "outputId": "086f066f-7d58-47bd-ded7-c9124ef7ba0e"
   },
   "outputs": [
    {
     "data": {
      "image/png": "[encoded data removed]",
      "text/plain": [
       "<Figure size 1080x1080 with 9 Axes>"
      ]
     },
     "metadata": {},
     "output_type": "display_data"
    }
   ],
   "source": [
    "fig,((ax0,ax1,ax2),(ax3,ax4,ax5),(ax6,ax7,ax8)) = plt.subplots(3,3,figsize=(15,15))\n",
    "gs = fig.add_gridspec(3,3)\n",
    "gs.update(wspace=0.5, hspace=0.5)\n",
    "background_color = \"lightcyan\"\n",
    "#fig.patch.set_facecolor(background_color)\n",
    "color_palette = ['slategray','indigo']\n",
    "\n",
    "# Title\n",
    "path = \"../input/Predictive-model/images (1).jfif\"\n",
    "character_img = mpimg.imread(path)\n",
    "imagebox = OffsetImage(character_img, zoom=0.5)\n",
    "xy = (.05, .1)\n",
    "ab = AnnotationBbox(imagebox, xy,xybox=(.5,.25))\n",
    "ax0.add_artist(ab)\n",
    "#ax0.patch.set_facecolor(background_color)\n",
    "ax0.text(0.5,0.7,'Count plot for various\\n categorical features\\n_________________',\n",
    "        horizontalalignment = 'center',\n",
    "        verticalalignment = 'center',\n",
    "        fontsize = 18,\n",
    "        fontweight='bold',\n",
    "        fontfamily='serif',\n",
    "        color='#000000')\n",
    "#ax0.spines[\"bottom\",'top','right','left'].set_visible(False)\n",
    "ax0.set_xticklabels([])\n",
    "ax0.set_yticklabels([])\n",
    "ax0.tick_params(left=False, bottom=False)\n",
    "\n",
    "\n",
    "\n",
    "\n",
    "# Sex count\n",
    "ax1.text(0.3, 130, 'Sex', fontsize=14, fontweight='bold', fontfamily='serif', color=\"#000000\")\n",
    "ax1.grid(color='#000000', linestyle=':', axis='y', zorder=0,  dashes=(1,5))\n",
    "sns.countplot(ax=ax1,data=df,x='sex',palette=color_palette,hue='output')\n",
    "ax1.set_xlabel(\"\")\n",
    "ax1.set_ylabel(\"\")\n",
    "#plt.title('Sex',fontsize=14, fontweight='bold', fontfamily='serif', color=\"#000000\")\n",
    "\n",
    "\n",
    "# Exng count\n",
    "ax2.text(0.3, 160, 'Exng', fontsize=14, fontweight='bold', fontfamily='serif', color=\"#000000\")\n",
    "ax2.grid(color='#000000', linestyle=':', axis='y', zorder=0,  dashes=(1,5))\n",
    "sns.countplot(ax=ax2,data=df,x='exng',palette=color_palette,hue='output')\n",
    "ax2.set_xlabel(\"\")\n",
    "ax2.set_ylabel(\"\")\n",
    "\n",
    "# Caa count\n",
    "ax3.text(1.5, 145, 'Caa', fontsize=14, fontweight='bold', fontfamily='serif', color=\"#000000\")\n",
    "ax3.grid(color='#000000', linestyle=':', axis='y', zorder=0,  dashes=(1,5))\n",
    "sns.countplot(ax=ax3,data=df,x='caa',palette=color_palette,hue='output')\n",
    "ax3.set_xlabel(\"\")\n",
    "ax3.set_ylabel(\"\")\n",
    "\n",
    "# Cp count\n",
    "ax4.text(1.5, 120, 'Cp', fontsize=14, fontweight='bold', fontfamily='serif', color=\"#000000\")\n",
    "ax4.grid(color='#000000', linestyle=':', axis='y', zorder=0,  dashes=(1,5))\n",
    "sns.countplot(ax=ax4,data=df,x='cp',palette=color_palette,hue='output')\n",
    "ax4.set_xlabel(\"\")\n",
    "ax4.set_ylabel(\"\")\n",
    "\n",
    "# Fbs count\n",
    "ax5.text(0.5, 145, 'Fbs', fontsize=14, fontweight='bold', fontfamily='serif', color=\"#000000\")\n",
    "ax5.grid(color='#000000', linestyle=':', axis='y', zorder=0,  dashes=(1,5))\n",
    "sns.countplot(ax=ax5,data=df,x='fbs',palette=color_palette,hue='output')\n",
    "ax5.set_xlabel(\"\")\n",
    "ax5.set_ylabel(\"\")\n",
    "\n",
    "# Restecg count\n",
    "ax6.text(0.75, 105, 'Restecg', fontsize=14, fontweight='bold', fontfamily='serif', color=\"#000000\")\n",
    "ax6.grid(color='#000000', linestyle=':', axis='y', zorder=0,  dashes=(1,5))\n",
    "sns.countplot(ax=ax6,data=df,x='restecg',palette=color_palette,hue='output')\n",
    "ax6.set_xlabel(\"\")\n",
    "ax6.set_ylabel(\"\")\n",
    "\n",
    "# Slp count\n",
    "ax7.text(0.85, 110, 'Slp', fontsize=14, fontweight='bold', fontfamily='serif', color=\"#000000\")\n",
    "ax7.grid(color='#000000', linestyle=':', axis='y', zorder=0,  dashes=(1,5))\n",
    "sns.countplot(ax=ax7,data=df,x='slp',palette=color_palette,hue='output')\n",
    "ax7.set_xlabel(\"\")\n",
    "ax7.set_ylabel(\"\")\n",
    "\n",
    "# Thall count\n",
    "ax8.text(1.2, 135, 'Thall', fontsize=14, fontweight='bold', fontfamily='serif', color=\"#000000\")\n",
    "ax8.grid(color='#000000', linestyle=':', axis='y', zorder=0,  dashes=(1,5))\n",
    "sns.countplot(ax=ax8,data=df,x='thall',palette=color_palette,hue='output')\n",
    "ax8.set_xlabel(\"\")\n",
    "ax8.set_ylabel(\"\");"
   ]
  },
  {
   "cell_type": "markdown",
   "id": "3ee69fcd",
   "metadata": {
    "id": "3ee69fcd"
   },
   "source": [
    "#Caa \n",
    "\n",
    "number of major vessels (0-3) colored by flourosopy\n",
    "person with issue in all major vessels has 74.5% probability of getting Heart attact"
   ]
  },
  {
   "cell_type": "code",
   "execution_count": 24,
   "id": "5e086044",
   "metadata": {
    "colab": {
     "base_uri": "https://localhost:8080/",
     "height": 143
    },
    "id": "5e086044",
    "outputId": "db1b25bc-57d9-4840-b040-14e77fb6d2c1"
   },
   "outputs": [
    {
     "data": {
      "text/html": [
       "\n",
       "  <div id=\"df-b2cf94e3-4156-4178-ae45-9cb885c64947\">\n",
       "    <div class=\"colab-df-container\">\n",
       "      <div>\n",
       "<style scoped>\n",
       "    .dataframe tbody tr th:only-of-type {\n",
       "        vertical-align: middle;\n",
       "    }\n",
       "\n",
       "    .dataframe tbody tr th {\n",
       "        vertical-align: top;\n",
       "    }\n",
       "\n",
       "    .dataframe thead th {\n",
       "        text-align: right;\n",
       "    }\n",
       "</style>\n",
       "<table border=\"1\" class=\"dataframe\">\n",
       "  <thead>\n",
       "    <tr style=\"text-align: right;\">\n",
       "      <th>caa</th>\n",
       "      <th>0.0</th>\n",
       "      <th>1.0</th>\n",
       "      <th>2.0</th>\n",
       "      <th>3.0</th>\n",
       "    </tr>\n",
       "    <tr>\n",
       "      <th>output</th>\n",
       "      <th></th>\n",
       "      <th></th>\n",
       "      <th></th>\n",
       "      <th></th>\n",
       "    </tr>\n",
       "  </thead>\n",
       "  <tbody>\n",
       "    <tr>\n",
       "      <th>0</th>\n",
       "      <td>25.555556</td>\n",
       "      <td>67.692308</td>\n",
       "      <td>81.578947</td>\n",
       "      <td>85.0</td>\n",
       "    </tr>\n",
       "    <tr>\n",
       "      <th>1</th>\n",
       "      <td>74.444444</td>\n",
       "      <td>32.307692</td>\n",
       "      <td>18.421053</td>\n",
       "      <td>15.0</td>\n",
       "    </tr>\n",
       "  </tbody>\n",
       "</table>\n",
       "</div>\n",
       "      <button class=\"colab-df-convert\" onclick=\"convertToInteractive('df-b2cf94e3-4156-4178-ae45-9cb885c64947')\"\n",
       "              title=\"Convert this dataframe to an interactive table.\"\n",
       "              style=\"display:none;\">\n",
       "        \n",
       "  <svg xmlns=\"http://www.w3.org/2000/svg\" height=\"24px\"viewBox=\"0 0 24 24\"\n",
       "       width=\"24px\">\n",
       "    <path d=\"M0 0h24v24H0V0z\" fill=\"none\"/>\n",
       "    <path d=\"M18.56 5.44l.94 2.06.94-2.06 2.06-.94-2.06-.94-.94-2.06-.94 2.06-2.06.94zm-11 1L8.5 8.5l.94-2.06 2.06-.94-2.06-.94L8.5 2.5l-.94 2.06-2.06.94zm10 10l.94 2.06.94-2.06 2.06-.94-2.06-.94-.94-2.06-.94 2.06-2.06.94z\"/><path d=\"M17.41 7.96l-1.37-1.37c-.4-.4-.92-.59-1.43-.59-.52 0-1.04.2-1.43.59L10.3 9.45l-7.72 7.72c-.78.78-.78 2.05 0 2.83L4 21.41c.39.39.9.59 1.41.59.51 0 1.02-.2 1.41-.59l7.78-7.78 2.81-2.81c.8-.78.8-2.07 0-2.86zM5.41 20L4 18.59l7.72-7.72 1.47 1.35L5.41 20z\"/>\n",
       "  </svg>\n",
       "      </button>\n",
       "      \n",
       "  <style>\n",
       "    .colab-df-container {\n",
       "      display:flex;\n",
       "      flex-wrap:wrap;\n",
       "      gap: 12px;\n",
       "    }\n",
       "\n",
       "    .colab-df-convert {\n",
       "      background-color: #E8F0FE;\n",
       "      border: none;\n",
       "      border-radius: 50%;\n",
       "      cursor: pointer;\n",
       "      display: none;\n",
       "      fill: #1967D2;\n",
       "      height: 32px;\n",
       "      padding: 0 0 0 0;\n",
       "      width: 32px;\n",
       "    }\n",
       "\n",
       "    .colab-df-convert:hover {\n",
       "      background-color: #E2EBFA;\n",
       "      box-shadow: 0px 1px 2px rgba(60, 64, 67, 0.3), 0px 1px 3px 1px rgba(60, 64, 67, 0.15);\n",
       "      fill: #174EA6;\n",
       "    }\n",
       "\n",
       "    [theme=dark] .colab-df-convert {\n",
       "      background-color: #3B4455;\n",
       "      fill: #D2E3FC;\n",
       "    }\n",
       "\n",
       "    [theme=dark] .colab-df-convert:hover {\n",
       "      background-color: #434B5C;\n",
       "      box-shadow: 0px 1px 3px 1px rgba(0, 0, 0, 0.15);\n",
       "      filter: drop-shadow(0px 1px 2px rgba(0, 0, 0, 0.3));\n",
       "      fill: #FFFFFF;\n",
       "    }\n",
       "  </style>\n",
       "\n",
       "      <script>\n",
       "        const buttonEl =\n",
       "          document.querySelector('#df-b2cf94e3-4156-4178-ae45-9cb885c64947 button.colab-df-convert');\n",
       "        buttonEl.style.display =\n",
       "          google.colab.kernel.accessAllowed ? 'block' : 'none';\n",
       "\n",
       "        async function convertToInteractive(key) {\n",
       "          const element = document.querySelector('#df-b2cf94e3-4156-4178-ae45-9cb885c64947');\n",
       "          const dataTable =\n",
       "            await google.colab.kernel.invokeFunction('convertToInteractive',\n",
       "                                                     [key], {});\n",
       "          if (!dataTable) return;\n",
       "\n",
       "          const docLinkHtml = 'Like what you see? Visit the ' +\n",
       "            '<a target=\"_blank\" href=https://colab.research.google.com/notebooks/data_table.ipynb>data table notebook</a>'\n",
       "            + ' to learn more about interactive tables.';\n",
       "          element.innerHTML = '';\n",
       "          dataTable['output_type'] = 'display_data';\n",
       "          await google.colab.output.renderOutput(dataTable, element);\n",
       "          const docLink = document.createElement('div');\n",
       "          docLink.innerHTML = docLinkHtml;\n",
       "          element.appendChild(docLink);\n",
       "        }\n",
       "      </script>\n",
       "    </div>\n",
       "  </div>\n",
       "  "
      ],
      "text/plain": [
       "caa           0.0        1.0        2.0   3.0\n",
       "output                                       \n",
       "0       25.555556  67.692308  81.578947  85.0\n",
       "1       74.444444  32.307692  18.421053  15.0"
      ]
     },
     "execution_count": 24,
     "metadata": {},
     "output_type": "execute_result"
    }
   ],
   "source": [
    "pd.crosstab(df.output,df.caa,normalize='columns')*100"
   ]
  },
  {
   "cell_type": "markdown",
   "id": "29e7e566",
   "metadata": {
    "id": "29e7e566"
   },
   "source": [
    "# Cp\n",
    "\n",
    "chest pain"
   ]
  },
  {
   "cell_type": "code",
   "execution_count": 25,
   "id": "104826b0",
   "metadata": {
    "colab": {
     "base_uri": "https://localhost:8080/",
     "height": 112
    },
    "id": "104826b0",
    "outputId": "960ae313-8427-4435-a6cd-4ba4b5fcdacd"
   },
   "outputs": [
    {
     "data": {
      "text/html": [
       "\n",
       "  <div id=\"df-d462fba0-3db6-44de-bb09-3ea60e47d70f\">\n",
       "    <div class=\"colab-df-container\">\n",
       "      <div>\n",
       "<style scoped>\n",
       "    .dataframe tbody tr th:only-of-type {\n",
       "        vertical-align: middle;\n",
       "    }\n",
       "\n",
       "    .dataframe tbody tr th {\n",
       "        vertical-align: top;\n",
       "    }\n",
       "\n",
       "    .dataframe thead tr th {\n",
       "        text-align: left;\n",
       "    }\n",
       "</style>\n",
       "<table border=\"1\" class=\"dataframe\">\n",
       "  <thead>\n",
       "    <tr>\n",
       "      <th>cp</th>\n",
       "      <th colspan=\"2\" halign=\"left\">asymptomatic</th>\n",
       "      <th colspan=\"2\" halign=\"left\">atypical angina</th>\n",
       "      <th colspan=\"2\" halign=\"left\">non-anginal pain</th>\n",
       "      <th colspan=\"2\" halign=\"left\">typical angina</th>\n",
       "    </tr>\n",
       "    <tr>\n",
       "      <th>output</th>\n",
       "      <th>1</th>\n",
       "      <th>0</th>\n",
       "      <th>1</th>\n",
       "      <th>0</th>\n",
       "      <th>1</th>\n",
       "      <th>0</th>\n",
       "      <th>0</th>\n",
       "      <th>1</th>\n",
       "    </tr>\n",
       "  </thead>\n",
       "  <tbody>\n",
       "    <tr>\n",
       "      <th>output</th>\n",
       "      <td>69.565217</td>\n",
       "      <td>30.434783</td>\n",
       "      <td>82.0</td>\n",
       "      <td>18.0</td>\n",
       "      <td>79.310345</td>\n",
       "      <td>20.689655</td>\n",
       "      <td>72.727273</td>\n",
       "      <td>27.272727</td>\n",
       "    </tr>\n",
       "  </tbody>\n",
       "</table>\n",
       "</div>\n",
       "      <button class=\"colab-df-convert\" onclick=\"convertToInteractive('df-d462fba0-3db6-44de-bb09-3ea60e47d70f')\"\n",
       "              title=\"Convert this dataframe to an interactive table.\"\n",
       "              style=\"display:none;\">\n",
       "        \n",
       "  <svg xmlns=\"http://www.w3.org/2000/svg\" height=\"24px\"viewBox=\"0 0 24 24\"\n",
       "       width=\"24px\">\n",
       "    <path d=\"M0 0h24v24H0V0z\" fill=\"none\"/>\n",
       "    <path d=\"M18.56 5.44l.94 2.06.94-2.06 2.06-.94-2.06-.94-.94-2.06-.94 2.06-2.06.94zm-11 1L8.5 8.5l.94-2.06 2.06-.94-2.06-.94L8.5 2.5l-.94 2.06-2.06.94zm10 10l.94 2.06.94-2.06 2.06-.94-2.06-.94-.94-2.06-.94 2.06-2.06.94z\"/><path d=\"M17.41 7.96l-1.37-1.37c-.4-.4-.92-.59-1.43-.59-.52 0-1.04.2-1.43.59L10.3 9.45l-7.72 7.72c-.78.78-.78 2.05 0 2.83L4 21.41c.39.39.9.59 1.41.59.51 0 1.02-.2 1.41-.59l7.78-7.78 2.81-2.81c.8-.78.8-2.07 0-2.86zM5.41 20L4 18.59l7.72-7.72 1.47 1.35L5.41 20z\"/>\n",
       "  </svg>\n",
       "      </button>\n",
       "      \n",
       "  <style>\n",
       "    .colab-df-container {\n",
       "      display:flex;\n",
       "      flex-wrap:wrap;\n",
       "      gap: 12px;\n",
       "    }\n",
       "\n",
       "    .colab-df-convert {\n",
       "      background-color: #E8F0FE;\n",
       "      border: none;\n",
       "      border-radius: 50%;\n",
       "      cursor: pointer;\n",
       "      display: none;\n",
       "      fill: #1967D2;\n",
       "      height: 32px;\n",
       "      padding: 0 0 0 0;\n",
       "      width: 32px;\n",
       "    }\n",
       "\n",
       "    .colab-df-convert:hover {\n",
       "      background-color: #E2EBFA;\n",
       "      box-shadow: 0px 1px 2px rgba(60, 64, 67, 0.3), 0px 1px 3px 1px rgba(60, 64, 67, 0.15);\n",
       "      fill: #174EA6;\n",
       "    }\n",
       "\n",
       "    [theme=dark] .colab-df-convert {\n",
       "      background-color: #3B4455;\n",
       "      fill: #D2E3FC;\n",
       "    }\n",
       "\n",
       "    [theme=dark] .colab-df-convert:hover {\n",
       "      background-color: #434B5C;\n",
       "      box-shadow: 0px 1px 3px 1px rgba(0, 0, 0, 0.15);\n",
       "      filter: drop-shadow(0px 1px 2px rgba(0, 0, 0, 0.3));\n",
       "      fill: #FFFFFF;\n",
       "    }\n",
       "  </style>\n",
       "\n",
       "      <script>\n",
       "        const buttonEl =\n",
       "          document.querySelector('#df-d462fba0-3db6-44de-bb09-3ea60e47d70f button.colab-df-convert');\n",
       "        buttonEl.style.display =\n",
       "          google.colab.kernel.accessAllowed ? 'block' : 'none';\n",
       "\n",
       "        async function convertToInteractive(key) {\n",
       "          const element = document.querySelector('#df-d462fba0-3db6-44de-bb09-3ea60e47d70f');\n",
       "          const dataTable =\n",
       "            await google.colab.kernel.invokeFunction('convertToInteractive',\n",
       "                                                     [key], {});\n",
       "          if (!dataTable) return;\n",
       "\n",
       "          const docLinkHtml = 'Like what you see? Visit the ' +\n",
       "            '<a target=\"_blank\" href=https://colab.research.google.com/notebooks/data_table.ipynb>data table notebook</a>'\n",
       "            + ' to learn more about interactive tables.';\n",
       "          element.innerHTML = '';\n",
       "          dataTable['output_type'] = 'display_data';\n",
       "          await google.colab.output.renderOutput(dataTable, element);\n",
       "          const docLink = document.createElement('div');\n",
       "          docLink.innerHTML = docLinkHtml;\n",
       "          element.appendChild(docLink);\n",
       "        }\n",
       "      </script>\n",
       "    </div>\n",
       "  </div>\n",
       "  "
      ],
      "text/plain": [
       "cp     asymptomatic            atypical angina       non-anginal pain  \\\n",
       "output            1          0               1     0                1   \n",
       "output    69.565217  30.434783            82.0  18.0        79.310345   \n",
       "\n",
       "cp                typical angina             \n",
       "output          0              0          1  \n",
       "output  20.689655      72.727273  27.272727  "
      ]
     },
     "execution_count": 25,
     "metadata": {},
     "output_type": "execute_result"
    }
   ],
   "source": [
    "DF(df.groupby('cp').output.value_counts(normalize=True)*100).T"
   ]
  },
  {
   "cell_type": "markdown",
   "id": "cd4c340d",
   "metadata": {
    "id": "cd4c340d"
   },
   "source": [
    "# Rest ECG\n",
    "\n",
    "0 - Normal\n",
    "1 - Having ST-T wave abnormality \n",
    "2 - Hypertrophy( blockage of ventricular )\n",
    "\n",
    "Person having ST-T wave abnormality have high risk of heart attack"
   ]
  },
  {
   "cell_type": "code",
   "execution_count": 26,
   "id": "8df9353e",
   "metadata": {
    "colab": {
     "base_uri": "https://localhost:8080/",
     "height": 175
    },
    "id": "8df9353e",
    "outputId": "05229a16-d578-46eb-c2d1-70c88e40034d"
   },
   "outputs": [
    {
     "data": {
      "text/html": [
       "\n",
       "  <div id=\"df-5f2fb302-2329-4e18-b763-ce2103be55fb\">\n",
       "    <div class=\"colab-df-container\">\n",
       "      <div>\n",
       "<style scoped>\n",
       "    .dataframe tbody tr th:only-of-type {\n",
       "        vertical-align: middle;\n",
       "    }\n",
       "\n",
       "    .dataframe tbody tr th {\n",
       "        vertical-align: top;\n",
       "    }\n",
       "\n",
       "    .dataframe thead th {\n",
       "        text-align: right;\n",
       "    }\n",
       "</style>\n",
       "<table border=\"1\" class=\"dataframe\">\n",
       "  <thead>\n",
       "    <tr style=\"text-align: right;\">\n",
       "      <th>output</th>\n",
       "      <th>0</th>\n",
       "      <th>1</th>\n",
       "    </tr>\n",
       "    <tr>\n",
       "      <th>restecg</th>\n",
       "      <th></th>\n",
       "      <th></th>\n",
       "    </tr>\n",
       "  </thead>\n",
       "  <tbody>\n",
       "    <tr>\n",
       "      <th>0</th>\n",
       "      <td>53.741497</td>\n",
       "      <td>46.258503</td>\n",
       "    </tr>\n",
       "    <tr>\n",
       "      <th>1</th>\n",
       "      <td>36.842105</td>\n",
       "      <td>63.157895</td>\n",
       "    </tr>\n",
       "    <tr>\n",
       "      <th>2</th>\n",
       "      <td>75.000000</td>\n",
       "      <td>25.000000</td>\n",
       "    </tr>\n",
       "  </tbody>\n",
       "</table>\n",
       "</div>\n",
       "      <button class=\"colab-df-convert\" onclick=\"convertToInteractive('df-5f2fb302-2329-4e18-b763-ce2103be55fb')\"\n",
       "              title=\"Convert this dataframe to an interactive table.\"\n",
       "              style=\"display:none;\">\n",
       "        \n",
       "  <svg xmlns=\"http://www.w3.org/2000/svg\" height=\"24px\"viewBox=\"0 0 24 24\"\n",
       "       width=\"24px\">\n",
       "    <path d=\"M0 0h24v24H0V0z\" fill=\"none\"/>\n",
       "    <path d=\"M18.56 5.44l.94 2.06.94-2.06 2.06-.94-2.06-.94-.94-2.06-.94 2.06-2.06.94zm-11 1L8.5 8.5l.94-2.06 2.06-.94-2.06-.94L8.5 2.5l-.94 2.06-2.06.94zm10 10l.94 2.06.94-2.06 2.06-.94-2.06-.94-.94-2.06-.94 2.06-2.06.94z\"/><path d=\"M17.41 7.96l-1.37-1.37c-.4-.4-.92-.59-1.43-.59-.52 0-1.04.2-1.43.59L10.3 9.45l-7.72 7.72c-.78.78-.78 2.05 0 2.83L4 21.41c.39.39.9.59 1.41.59.51 0 1.02-.2 1.41-.59l7.78-7.78 2.81-2.81c.8-.78.8-2.07 0-2.86zM5.41 20L4 18.59l7.72-7.72 1.47 1.35L5.41 20z\"/>\n",
       "  </svg>\n",
       "      </button>\n",
       "      \n",
       "  <style>\n",
       "    .colab-df-container {\n",
       "      display:flex;\n",
       "      flex-wrap:wrap;\n",
       "      gap: 12px;\n",
       "    }\n",
       "\n",
       "    .colab-df-convert {\n",
       "      background-color: #E8F0FE;\n",
       "      border: none;\n",
       "      border-radius: 50%;\n",
       "      cursor: pointer;\n",
       "      display: none;\n",
       "      fill: #1967D2;\n",
       "      height: 32px;\n",
       "      padding: 0 0 0 0;\n",
       "      width: 32px;\n",
       "    }\n",
       "\n",
       "    .colab-df-convert:hover {\n",
       "      background-color: #E2EBFA;\n",
       "      box-shadow: 0px 1px 2px rgba(60, 64, 67, 0.3), 0px 1px 3px 1px rgba(60, 64, 67, 0.15);\n",
       "      fill: #174EA6;\n",
       "    }\n",
       "\n",
       "    [theme=dark] .colab-df-convert {\n",
       "      background-color: #3B4455;\n",
       "      fill: #D2E3FC;\n",
       "    }\n",
       "\n",
       "    [theme=dark] .colab-df-convert:hover {\n",
       "      background-color: #434B5C;\n",
       "      box-shadow: 0px 1px 3px 1px rgba(0, 0, 0, 0.15);\n",
       "      filter: drop-shadow(0px 1px 2px rgba(0, 0, 0, 0.3));\n",
       "      fill: #FFFFFF;\n",
       "    }\n",
       "  </style>\n",
       "\n",
       "      <script>\n",
       "        const buttonEl =\n",
       "          document.querySelector('#df-5f2fb302-2329-4e18-b763-ce2103be55fb button.colab-df-convert');\n",
       "        buttonEl.style.display =\n",
       "          google.colab.kernel.accessAllowed ? 'block' : 'none';\n",
       "\n",
       "        async function convertToInteractive(key) {\n",
       "          const element = document.querySelector('#df-5f2fb302-2329-4e18-b763-ce2103be55fb');\n",
       "          const dataTable =\n",
       "            await google.colab.kernel.invokeFunction('convertToInteractive',\n",
       "                                                     [key], {});\n",
       "          if (!dataTable) return;\n",
       "\n",
       "          const docLinkHtml = 'Like what you see? Visit the ' +\n",
       "            '<a target=\"_blank\" href=https://colab.research.google.com/notebooks/data_table.ipynb>data table notebook</a>'\n",
       "            + ' to learn more about interactive tables.';\n",
       "          element.innerHTML = '';\n",
       "          dataTable['output_type'] = 'display_data';\n",
       "          await google.colab.output.renderOutput(dataTable, element);\n",
       "          const docLink = document.createElement('div');\n",
       "          docLink.innerHTML = docLinkHtml;\n",
       "          element.appendChild(docLink);\n",
       "        }\n",
       "      </script>\n",
       "    </div>\n",
       "  </div>\n",
       "  "
      ],
      "text/plain": [
       "output           0          1\n",
       "restecg                      \n",
       "0        53.741497  46.258503\n",
       "1        36.842105  63.157895\n",
       "2        75.000000  25.000000"
      ]
     },
     "execution_count": 26,
     "metadata": {},
     "output_type": "execute_result"
    }
   ],
   "source": [
    "pd.crosstab(df.restecg,df.output,normalize='index')*100"
   ]
  },
  {
   "cell_type": "markdown",
   "id": "d0b64290",
   "metadata": {
    "id": "d0b64290"
   },
   "source": [
    "# SLP - The slope of the peak exercise ST segment \n",
    "\n",
    "(0 = upsloping; 1 = flat; 2 = downsloping) (Exercise tolerance testing)\n",
    "\n",
    "ST - down slop indicates high probability of having Heart attack 75.35%"
   ]
  },
  {
   "cell_type": "code",
   "execution_count": 27,
   "id": "02f25f70",
   "metadata": {
    "colab": {
     "base_uri": "https://localhost:8080/",
     "height": 175
    },
    "id": "02f25f70",
    "outputId": "f674d45e-c978-4c59-d595-fc7f9168326d"
   },
   "outputs": [
    {
     "data": {
      "text/html": [
       "\n",
       "  <div id=\"df-c4cbaf7a-7655-4221-a8bc-6a772a16f50a\">\n",
       "    <div class=\"colab-df-container\">\n",
       "      <div>\n",
       "<style scoped>\n",
       "    .dataframe tbody tr th:only-of-type {\n",
       "        vertical-align: middle;\n",
       "    }\n",
       "\n",
       "    .dataframe tbody tr th {\n",
       "        vertical-align: top;\n",
       "    }\n",
       "\n",
       "    .dataframe thead th {\n",
       "        text-align: right;\n",
       "    }\n",
       "</style>\n",
       "<table border=\"1\" class=\"dataframe\">\n",
       "  <thead>\n",
       "    <tr style=\"text-align: right;\">\n",
       "      <th>output</th>\n",
       "      <th>0</th>\n",
       "      <th>1</th>\n",
       "    </tr>\n",
       "    <tr>\n",
       "      <th>slp</th>\n",
       "      <th></th>\n",
       "      <th></th>\n",
       "    </tr>\n",
       "  </thead>\n",
       "  <tbody>\n",
       "    <tr>\n",
       "      <th>downsloping</th>\n",
       "      <td>24.647887</td>\n",
       "      <td>75.352113</td>\n",
       "    </tr>\n",
       "    <tr>\n",
       "      <th>flat</th>\n",
       "      <td>65.000000</td>\n",
       "      <td>35.000000</td>\n",
       "    </tr>\n",
       "    <tr>\n",
       "      <th>upsloping</th>\n",
       "      <td>57.142857</td>\n",
       "      <td>42.857143</td>\n",
       "    </tr>\n",
       "  </tbody>\n",
       "</table>\n",
       "</div>\n",
       "      <button class=\"colab-df-convert\" onclick=\"convertToInteractive('df-c4cbaf7a-7655-4221-a8bc-6a772a16f50a')\"\n",
       "              title=\"Convert this dataframe to an interactive table.\"\n",
       "              style=\"display:none;\">\n",
       "        \n",
       "  <svg xmlns=\"http://www.w3.org/2000/svg\" height=\"24px\"viewBox=\"0 0 24 24\"\n",
       "       width=\"24px\">\n",
       "    <path d=\"M0 0h24v24H0V0z\" fill=\"none\"/>\n",
       "    <path d=\"M18.56 5.44l.94 2.06.94-2.06 2.06-.94-2.06-.94-.94-2.06-.94 2.06-2.06.94zm-11 1L8.5 8.5l.94-2.06 2.06-.94-2.06-.94L8.5 2.5l-.94 2.06-2.06.94zm10 10l.94 2.06.94-2.06 2.06-.94-2.06-.94-.94-2.06-.94 2.06-2.06.94z\"/><path d=\"M17.41 7.96l-1.37-1.37c-.4-.4-.92-.59-1.43-.59-.52 0-1.04.2-1.43.59L10.3 9.45l-7.72 7.72c-.78.78-.78 2.05 0 2.83L4 21.41c.39.39.9.59 1.41.59.51 0 1.02-.2 1.41-.59l7.78-7.78 2.81-2.81c.8-.78.8-2.07 0-2.86zM5.41 20L4 18.59l7.72-7.72 1.47 1.35L5.41 20z\"/>\n",
       "  </svg>\n",
       "      </button>\n",
       "      \n",
       "  <style>\n",
       "    .colab-df-container {\n",
       "      display:flex;\n",
       "      flex-wrap:wrap;\n",
       "      gap: 12px;\n",
       "    }\n",
       "\n",
       "    .colab-df-convert {\n",
       "      background-color: #E8F0FE;\n",
       "      border: none;\n",
       "      border-radius: 50%;\n",
       "      cursor: pointer;\n",
       "      display: none;\n",
       "      fill: #1967D2;\n",
       "      height: 32px;\n",
       "      padding: 0 0 0 0;\n",
       "      width: 32px;\n",
       "    }\n",
       "\n",
       "    .colab-df-convert:hover {\n",
       "      background-color: #E2EBFA;\n",
       "      box-shadow: 0px 1px 2px rgba(60, 64, 67, 0.3), 0px 1px 3px 1px rgba(60, 64, 67, 0.15);\n",
       "      fill: #174EA6;\n",
       "    }\n",
       "\n",
       "    [theme=dark] .colab-df-convert {\n",
       "      background-color: #3B4455;\n",
       "      fill: #D2E3FC;\n",
       "    }\n",
       "\n",
       "    [theme=dark] .colab-df-convert:hover {\n",
       "      background-color: #434B5C;\n",
       "      box-shadow: 0px 1px 3px 1px rgba(0, 0, 0, 0.15);\n",
       "      filter: drop-shadow(0px 1px 2px rgba(0, 0, 0, 0.3));\n",
       "      fill: #FFFFFF;\n",
       "    }\n",
       "  </style>\n",
       "\n",
       "      <script>\n",
       "        const buttonEl =\n",
       "          document.querySelector('#df-c4cbaf7a-7655-4221-a8bc-6a772a16f50a button.colab-df-convert');\n",
       "        buttonEl.style.display =\n",
       "          google.colab.kernel.accessAllowed ? 'block' : 'none';\n",
       "\n",
       "        async function convertToInteractive(key) {\n",
       "          const element = document.querySelector('#df-c4cbaf7a-7655-4221-a8bc-6a772a16f50a');\n",
       "          const dataTable =\n",
       "            await google.colab.kernel.invokeFunction('convertToInteractive',\n",
       "                                                     [key], {});\n",
       "          if (!dataTable) return;\n",
       "\n",
       "          const docLinkHtml = 'Like what you see? Visit the ' +\n",
       "            '<a target=\"_blank\" href=https://colab.research.google.com/notebooks/data_table.ipynb>data table notebook</a>'\n",
       "            + ' to learn more about interactive tables.';\n",
       "          element.innerHTML = '';\n",
       "          dataTable['output_type'] = 'display_data';\n",
       "          await google.colab.output.renderOutput(dataTable, element);\n",
       "          const docLink = document.createElement('div');\n",
       "          docLink.innerHTML = docLinkHtml;\n",
       "          element.appendChild(docLink);\n",
       "        }\n",
       "      </script>\n",
       "    </div>\n",
       "  </div>\n",
       "  "
      ],
      "text/plain": [
       "output               0          1\n",
       "slp                              \n",
       "downsloping  24.647887  75.352113\n",
       "flat         65.000000  35.000000\n",
       "upsloping    57.142857  42.857143"
      ]
     },
     "execution_count": 27,
     "metadata": {},
     "output_type": "execute_result"
    }
   ],
   "source": [
    "pd.crosstab(df.slp,df.output,normalize='index')*100"
   ]
  },
  {
   "cell_type": "markdown",
   "id": "e9fc43cf",
   "metadata": {
    "id": "e9fc43cf"
   },
   "source": [
    "![image-2.png](attachment:image-2.png)"
   ]
  },
  {
   "cell_type": "markdown",
   "id": "81b66400",
   "metadata": {
    "id": "81b66400"
   },
   "source": [
    "# Thall - (thallium stress test)\n",
    "1 = normal \n",
    "2 = fixed defect \n",
    "3 = reversable defect \n",
    "\n",
    "The person with Thalassemia disease ( Blood Disorder ) has 78.44 % chance of heart attack"
   ]
  },
  {
   "cell_type": "code",
   "execution_count": 28,
   "id": "b1c8c239",
   "metadata": {
    "colab": {
     "base_uri": "https://localhost:8080/",
     "height": 175
    },
    "id": "b1c8c239",
    "outputId": "251f73c8-fe6a-4ce7-8899-74bf1fe199ae"
   },
   "outputs": [
    {
     "data": {
      "text/html": [
       "\n",
       "  <div id=\"df-e0e1d194-ecfa-4d04-a5a5-86e5f4b703a0\">\n",
       "    <div class=\"colab-df-container\">\n",
       "      <div>\n",
       "<style scoped>\n",
       "    .dataframe tbody tr th:only-of-type {\n",
       "        vertical-align: middle;\n",
       "    }\n",
       "\n",
       "    .dataframe tbody tr th {\n",
       "        vertical-align: top;\n",
       "    }\n",
       "\n",
       "    .dataframe thead th {\n",
       "        text-align: right;\n",
       "    }\n",
       "</style>\n",
       "<table border=\"1\" class=\"dataframe\">\n",
       "  <thead>\n",
       "    <tr style=\"text-align: right;\">\n",
       "      <th>output</th>\n",
       "      <th>0</th>\n",
       "      <th>1</th>\n",
       "    </tr>\n",
       "    <tr>\n",
       "      <th>thall</th>\n",
       "      <th></th>\n",
       "      <th></th>\n",
       "    </tr>\n",
       "  </thead>\n",
       "  <tbody>\n",
       "    <tr>\n",
       "      <th>1.0</th>\n",
       "      <td>66.666667</td>\n",
       "      <td>33.333333</td>\n",
       "    </tr>\n",
       "    <tr>\n",
       "      <th>2.0</th>\n",
       "      <td>21.556886</td>\n",
       "      <td>78.443114</td>\n",
       "    </tr>\n",
       "    <tr>\n",
       "      <th>3.0</th>\n",
       "      <td>76.271186</td>\n",
       "      <td>23.728814</td>\n",
       "    </tr>\n",
       "  </tbody>\n",
       "</table>\n",
       "</div>\n",
       "      <button class=\"colab-df-convert\" onclick=\"convertToInteractive('df-e0e1d194-ecfa-4d04-a5a5-86e5f4b703a0')\"\n",
       "              title=\"Convert this dataframe to an interactive table.\"\n",
       "              style=\"display:none;\">\n",
       "        \n",
       "  <svg xmlns=\"http://www.w3.org/2000/svg\" height=\"24px\"viewBox=\"0 0 24 24\"\n",
       "       width=\"24px\">\n",
       "    <path d=\"M0 0h24v24H0V0z\" fill=\"none\"/>\n",
       "    <path d=\"M18.56 5.44l.94 2.06.94-2.06 2.06-.94-2.06-.94-.94-2.06-.94 2.06-2.06.94zm-11 1L8.5 8.5l.94-2.06 2.06-.94-2.06-.94L8.5 2.5l-.94 2.06-2.06.94zm10 10l.94 2.06.94-2.06 2.06-.94-2.06-.94-.94-2.06-.94 2.06-2.06.94z\"/><path d=\"M17.41 7.96l-1.37-1.37c-.4-.4-.92-.59-1.43-.59-.52 0-1.04.2-1.43.59L10.3 9.45l-7.72 7.72c-.78.78-.78 2.05 0 2.83L4 21.41c.39.39.9.59 1.41.59.51 0 1.02-.2 1.41-.59l7.78-7.78 2.81-2.81c.8-.78.8-2.07 0-2.86zM5.41 20L4 18.59l7.72-7.72 1.47 1.35L5.41 20z\"/>\n",
       "  </svg>\n",
       "      </button>\n",
       "      \n",
       "  <style>\n",
       "    .colab-df-container {\n",
       "      display:flex;\n",
       "      flex-wrap:wrap;\n",
       "      gap: 12px;\n",
       "    }\n",
       "\n",
       "    .colab-df-convert {\n",
       "      background-color: #E8F0FE;\n",
       "      border: none;\n",
       "      border-radius: 50%;\n",
       "      cursor: pointer;\n",
       "      display: none;\n",
       "      fill: #1967D2;\n",
       "      height: 32px;\n",
       "      padding: 0 0 0 0;\n",
       "      width: 32px;\n",
       "    }\n",
       "\n",
       "    .colab-df-convert:hover {\n",
       "      background-color: #E2EBFA;\n",
       "      box-shadow: 0px 1px 2px rgba(60, 64, 67, 0.3), 0px 1px 3px 1px rgba(60, 64, 67, 0.15);\n",
       "      fill: #174EA6;\n",
       "    }\n",
       "\n",
       "    [theme=dark] .colab-df-convert {\n",
       "      background-color: #3B4455;\n",
       "      fill: #D2E3FC;\n",
       "    }\n",
       "\n",
       "    [theme=dark] .colab-df-convert:hover {\n",
       "      background-color: #434B5C;\n",
       "      box-shadow: 0px 1px 3px 1px rgba(0, 0, 0, 0.15);\n",
       "      filter: drop-shadow(0px 1px 2px rgba(0, 0, 0, 0.3));\n",
       "      fill: #FFFFFF;\n",
       "    }\n",
       "  </style>\n",
       "\n",
       "      <script>\n",
       "        const buttonEl =\n",
       "          document.querySelector('#df-e0e1d194-ecfa-4d04-a5a5-86e5f4b703a0 button.colab-df-convert');\n",
       "        buttonEl.style.display =\n",
       "          google.colab.kernel.accessAllowed ? 'block' : 'none';\n",
       "\n",
       "        async function convertToInteractive(key) {\n",
       "          const element = document.querySelector('#df-e0e1d194-ecfa-4d04-a5a5-86e5f4b703a0');\n",
       "          const dataTable =\n",
       "            await google.colab.kernel.invokeFunction('convertToInteractive',\n",
       "                                                     [key], {});\n",
       "          if (!dataTable) return;\n",
       "\n",
       "          const docLinkHtml = 'Like what you see? Visit the ' +\n",
       "            '<a target=\"_blank\" href=https://colab.research.google.com/notebooks/data_table.ipynb>data table notebook</a>'\n",
       "            + ' to learn more about interactive tables.';\n",
       "          element.innerHTML = '';\n",
       "          dataTable['output_type'] = 'display_data';\n",
       "          await google.colab.output.renderOutput(dataTable, element);\n",
       "          const docLink = document.createElement('div');\n",
       "          docLink.innerHTML = docLinkHtml;\n",
       "          element.appendChild(docLink);\n",
       "        }\n",
       "      </script>\n",
       "    </div>\n",
       "  </div>\n",
       "  "
      ],
      "text/plain": [
       "output          0          1\n",
       "thall                       \n",
       "1.0     66.666667  33.333333\n",
       "2.0     21.556886  78.443114\n",
       "3.0     76.271186  23.728814"
      ]
     },
     "execution_count": 28,
     "metadata": {},
     "output_type": "execute_result"
    }
   ],
   "source": [
    "pd.crosstab(df.thall,df.output,normalize='index')*100"
   ]
  },
  {
   "cell_type": "markdown",
   "id": "ab07a88e",
   "metadata": {
    "id": "ab07a88e"
   },
   "source": [
    "## Numerical Features Visualization"
   ]
  },
  {
   "cell_type": "code",
   "execution_count": 116,
   "id": "dd578ba9",
   "metadata": {
    "colab": {
     "base_uri": "https://localhost:8080/",
     "height": 924
    },
    "id": "dd578ba9",
    "outputId": "5f9b30a8-5560-405a-dcd1-104b702a39aa",
    "scrolled": false
   },
   "outputs": [
    {
     "data": {
      "image/png": "[encoded data removed]",
      "text/plain": [
       "<Figure size 1296x1152 with 6 Axes>"
      ]
     },
     "metadata": {},
     "output_type": "display_data"
    }
   ],
   "source": [
    "fig = plt.figure(figsize=(18,16))\n",
    "gs = fig.add_gridspec(2,3)\n",
    "gs.update(wspace=0.3, hspace=0.15)\n",
    "ax0 = fig.add_subplot(gs[0,0])\n",
    "ax1 = fig.add_subplot(gs[0,1])\n",
    "ax2 = fig.add_subplot(gs[0,2])\n",
    "ax3 = fig.add_subplot(gs[1,0])\n",
    "ax4 = fig.add_subplot(gs[1,1])\n",
    "ax5 = fig.add_subplot(gs[1,2])\n",
    "\n",
    "#background_color = \"lightcyan\"\n",
    "color_palette = [\"#800000\",\"#8000ff\",\"#6aac90\",\"#5833ff\",\"#da8829\"]\n",
    "# Title of the plot\n",
    "path = \"../input/Predictive-model/images.png\"\n",
    "character_img = mpimg.imread(path)\n",
    "imagebox = OffsetImage(character_img, zoom=0.5)\n",
    "xy = (.05, .1)\n",
    "ab = AnnotationBbox(imagebox, xy,xybox=(.5,.3))\n",
    "ax0.add_artist(ab)\n",
    "ax0.spines[\"bottom\"].set_visible(False)\n",
    "ax0.spines[\"left\"].set_visible(False)\n",
    "ax0.spines[\"top\"].set_visible(False)\n",
    "ax0.spines[\"right\"].set_visible(False)\n",
    "ax0.tick_params(left=False, bottom=False)\n",
    "ax0.set_xticklabels([])\n",
    "ax0.set_yticklabels([])\n",
    "ax0.text(0.5,0.7,\n",
    "         'Boxen plot for various\\n continuous features\\n_________________',\n",
    "         horizontalalignment='center',\n",
    "         verticalalignment='center',\n",
    "         fontsize=18, fontweight='bold',\n",
    "         fontfamily='serif',\n",
    "         color=\"#000000\")\n",
    "\n",
    "# Age \n",
    "ax1.text(-0.05, 81, 'Age', fontsize=14, fontweight='bold', fontfamily='serif', color=\"#000000\")\n",
    "ax1.grid(color='#000000', linestyle=':', axis='y', zorder=0,  dashes=(1,5))\n",
    "sns.boxenplot(ax=ax1,y=df['age'],palette=[\"#800000\"],width=0.6)\n",
    "ax1.set_xlabel(\"\")\n",
    "ax1.set_ylabel(\"\")\n",
    "\n",
    "# Trtbps \n",
    "ax2.text(-0.05, 208, 'Trtbps', fontsize=14, fontweight='bold', fontfamily='serif', color=\"#000000\")\n",
    "ax2.grid(color='#000000', linestyle=':', axis='y', zorder=0,  dashes=(1,5))\n",
    "sns.boxenplot(ax=ax2,y=df['trtbps'],palette=[\"#8000ff\"],width=0.6)\n",
    "ax2.set_xlabel(\"\")\n",
    "ax2.set_ylabel(\"\")\n",
    "\n",
    "# Chol \n",
    "ax3.text(-0.05, 600, 'Chol', fontsize=14, fontweight='bold', fontfamily='serif', color=\"#000000\")\n",
    "ax3.grid(color='#000000', linestyle=':', axis='y', zorder=0,  dashes=(1,5))\n",
    "sns.boxenplot(ax=ax3,y=df['chol'],palette=[\"#6aac90\"],width=0.6)\n",
    "ax3.set_xlabel(\"\")\n",
    "ax3.set_ylabel(\"\")\n",
    "\n",
    "# Thalachh \n",
    "ax4.text(-0.09, 210, 'Thalachh', fontsize=14, fontweight='bold', fontfamily='serif', color=\"#000000\")\n",
    "ax4.grid(color='#000000', linestyle=':', axis='y', zorder=0,  dashes=(1,5))\n",
    "sns.boxenplot(ax=ax4,y=df['thalachh'],palette=[\"#5833ff\"],width=0.6)\n",
    "ax4.set_xlabel(\"\")\n",
    "ax4.set_ylabel(\"\")\n",
    "\n",
    "# oldpeak \n",
    "#ax5.text(-0.1, 6.6, 'Oldpeak', fontsize=14, fontweight='bold', fontfamily='serif', color=\"#000000\")\n",
    "ax5.grid(color='#000000', linestyle=':', axis='y', zorder=0,  dashes=(1,5))\n",
    "sns.boxenplot(ax=ax5,y=df['oldpeak'],palette=[\"#da8829\"],width=0.6)\n",
    "ax5.set_xlabel(\"\")\n",
    "ax5.set_ylabel(\"\")\n",
    "\n",
    "for s in [\"top\",\"right\",\"left\"]:\n",
    "    ax1.spines[s].set_visible(False)\n",
    "    ax2.spines[s].set_visible(False)\n",
    "    ax3.spines[s].set_visible(False)\n",
    "    ax4.spines[s].set_visible(False)\n",
    "    ax5.spines[s].set_visible(False)"
   ]
  },
  {
   "cell_type": "code",
   "execution_count": 30,
   "id": "e5d21cd2",
   "metadata": {
    "colab": {
     "base_uri": "https://localhost:8080/",
     "height": 300
    },
    "id": "e5d21cd2",
    "outputId": "46049b62-5aeb-47ac-a950-c40a2707d34e"
   },
   "outputs": [
    {
     "data": {
      "text/html": [
       "<style type=\"text/css\">\n",
       "#T_3fe50_row0_col0, #T_3fe50_row0_col1, #T_3fe50_row0_col3, #T_3fe50_row0_col4, #T_3fe50_row7_col2 {\n",
       "  background-color: #00441b;\n",
       "  color: #f1f1f1;\n",
       "}\n",
       "#T_3fe50_row0_col2 {\n",
       "  background-color: #78c679;\n",
       "  color: #000000;\n",
       "}\n",
       "#T_3fe50_row1_col0, #T_3fe50_row5_col0 {\n",
       "  background-color: #def2d9;\n",
       "  color: #000000;\n",
       "}\n",
       "#T_3fe50_row1_col1 {\n",
       "  background-color: #98d594;\n",
       "  color: #000000;\n",
       "}\n",
       "#T_3fe50_row1_col2 {\n",
       "  background-color: #9fd899;\n",
       "  color: #000000;\n",
       "}\n",
       "#T_3fe50_row1_col3 {\n",
       "  background-color: #86cc85;\n",
       "  color: #000000;\n",
       "}\n",
       "#T_3fe50_row1_col4, #T_3fe50_row2_col0, #T_3fe50_row2_col1, #T_3fe50_row2_col2, #T_3fe50_row2_col3, #T_3fe50_row2_col4, #T_3fe50_row3_col4, #T_3fe50_row4_col4, #T_3fe50_row5_col4 {\n",
       "  background-color: #f7fcf5;\n",
       "  color: #000000;\n",
       "}\n",
       "#T_3fe50_row3_col0 {\n",
       "  background-color: #edf8ea;\n",
       "  color: #000000;\n",
       "}\n",
       "#T_3fe50_row3_col1 {\n",
       "  background-color: #c2e7bb;\n",
       "  color: #000000;\n",
       "}\n",
       "#T_3fe50_row3_col2 {\n",
       "  background-color: #e0f3db;\n",
       "  color: #000000;\n",
       "}\n",
       "#T_3fe50_row3_col3 {\n",
       "  background-color: #dbf1d5;\n",
       "  color: #000000;\n",
       "}\n",
       "#T_3fe50_row4_col0 {\n",
       "  background-color: #e4f5df;\n",
       "  color: #000000;\n",
       "}\n",
       "#T_3fe50_row4_col1 {\n",
       "  background-color: #a7dba0;\n",
       "  color: #000000;\n",
       "}\n",
       "#T_3fe50_row4_col2 {\n",
       "  background-color: #b5e1ae;\n",
       "  color: #000000;\n",
       "}\n",
       "#T_3fe50_row4_col3 {\n",
       "  background-color: #99d595;\n",
       "  color: #000000;\n",
       "}\n",
       "#T_3fe50_row5_col1 {\n",
       "  background-color: #9bd696;\n",
       "  color: #000000;\n",
       "}\n",
       "#T_3fe50_row5_col2 {\n",
       "  background-color: #a3da9d;\n",
       "  color: #000000;\n",
       "}\n",
       "#T_3fe50_row5_col3 {\n",
       "  background-color: #81ca81;\n",
       "  color: #000000;\n",
       "}\n",
       "#T_3fe50_row6_col0 {\n",
       "  background-color: #d9f0d3;\n",
       "  color: #000000;\n",
       "}\n",
       "#T_3fe50_row6_col1 {\n",
       "  background-color: #8ed08b;\n",
       "  color: #000000;\n",
       "}\n",
       "#T_3fe50_row6_col2 {\n",
       "  background-color: #8bcf89;\n",
       "  color: #000000;\n",
       "}\n",
       "#T_3fe50_row6_col3 {\n",
       "  background-color: #70c274;\n",
       "  color: #000000;\n",
       "}\n",
       "#T_3fe50_row6_col4 {\n",
       "  background-color: #f6fcf4;\n",
       "  color: #000000;\n",
       "}\n",
       "#T_3fe50_row7_col0 {\n",
       "  background-color: #cbebc5;\n",
       "  color: #000000;\n",
       "}\n",
       "#T_3fe50_row7_col1, #T_3fe50_row7_col3 {\n",
       "  background-color: #3ea75a;\n",
       "  color: #f1f1f1;\n",
       "}\n",
       "#T_3fe50_row7_col4 {\n",
       "  background-color: #f4fbf2;\n",
       "  color: #000000;\n",
       "}\n",
       "</style>\n",
       "<table id=\"T_3fe50_\" class=\"dataframe\">\n",
       "  <thead>\n",
       "    <tr>\n",
       "      <th class=\"blank level0\" >&nbsp;</th>\n",
       "      <th class=\"col_heading level0 col0\" >age</th>\n",
       "      <th class=\"col_heading level0 col1\" >trtbps</th>\n",
       "      <th class=\"col_heading level0 col2\" >chol</th>\n",
       "      <th class=\"col_heading level0 col3\" >thalachh</th>\n",
       "      <th class=\"col_heading level0 col4\" >oldpeak</th>\n",
       "    </tr>\n",
       "  </thead>\n",
       "  <tbody>\n",
       "    <tr>\n",
       "      <th id=\"T_3fe50_level0_row0\" class=\"row_heading level0 row0\" >count</th>\n",
       "      <td id=\"T_3fe50_row0_col0\" class=\"data row0 col0\" >303.000000</td>\n",
       "      <td id=\"T_3fe50_row0_col1\" class=\"data row0 col1\" >303.000000</td>\n",
       "      <td id=\"T_3fe50_row0_col2\" class=\"data row0 col2\" >303.000000</td>\n",
       "      <td id=\"T_3fe50_row0_col3\" class=\"data row0 col3\" >303.000000</td>\n",
       "      <td id=\"T_3fe50_row0_col4\" class=\"data row0 col4\" >303.000000</td>\n",
       "    </tr>\n",
       "    <tr>\n",
       "      <th id=\"T_3fe50_level0_row1\" class=\"row_heading level0 row1\" >mean</th>\n",
       "      <td id=\"T_3fe50_row1_col0\" class=\"data row1 col0\" >54.366337</td>\n",
       "      <td id=\"T_3fe50_row1_col1\" class=\"data row1 col1\" >131.623762</td>\n",
       "      <td id=\"T_3fe50_row1_col2\" class=\"data row1 col2\" >246.264026</td>\n",
       "      <td id=\"T_3fe50_row1_col3\" class=\"data row1 col3\" >149.646865</td>\n",
       "      <td id=\"T_3fe50_row1_col4\" class=\"data row1 col4\" >1.039604</td>\n",
       "    </tr>\n",
       "    <tr>\n",
       "      <th id=\"T_3fe50_level0_row2\" class=\"row_heading level0 row2\" >std</th>\n",
       "      <td id=\"T_3fe50_row2_col0\" class=\"data row2 col0\" >9.082101</td>\n",
       "      <td id=\"T_3fe50_row2_col1\" class=\"data row2 col1\" >17.538143</td>\n",
       "      <td id=\"T_3fe50_row2_col2\" class=\"data row2 col2\" >51.830751</td>\n",
       "      <td id=\"T_3fe50_row2_col3\" class=\"data row2 col3\" >22.905161</td>\n",
       "      <td id=\"T_3fe50_row2_col4\" class=\"data row2 col4\" >1.161075</td>\n",
       "    </tr>\n",
       "    <tr>\n",
       "      <th id=\"T_3fe50_level0_row3\" class=\"row_heading level0 row3\" >min</th>\n",
       "      <td id=\"T_3fe50_row3_col0\" class=\"data row3 col0\" >29.000000</td>\n",
       "      <td id=\"T_3fe50_row3_col1\" class=\"data row3 col1\" >94.000000</td>\n",
       "      <td id=\"T_3fe50_row3_col2\" class=\"data row3 col2\" >126.000000</td>\n",
       "      <td id=\"T_3fe50_row3_col3\" class=\"data row3 col3\" >71.000000</td>\n",
       "      <td id=\"T_3fe50_row3_col4\" class=\"data row3 col4\" >0.000000</td>\n",
       "    </tr>\n",
       "    <tr>\n",
       "      <th id=\"T_3fe50_level0_row4\" class=\"row_heading level0 row4\" >25%</th>\n",
       "      <td id=\"T_3fe50_row4_col0\" class=\"data row4 col0\" >47.500000</td>\n",
       "      <td id=\"T_3fe50_row4_col1\" class=\"data row4 col1\" >120.000000</td>\n",
       "      <td id=\"T_3fe50_row4_col2\" class=\"data row4 col2\" >211.000000</td>\n",
       "      <td id=\"T_3fe50_row4_col3\" class=\"data row4 col3\" >133.500000</td>\n",
       "      <td id=\"T_3fe50_row4_col4\" class=\"data row4 col4\" >0.000000</td>\n",
       "    </tr>\n",
       "    <tr>\n",
       "      <th id=\"T_3fe50_level0_row5\" class=\"row_heading level0 row5\" >50%</th>\n",
       "      <td id=\"T_3fe50_row5_col0\" class=\"data row5 col0\" >55.000000</td>\n",
       "      <td id=\"T_3fe50_row5_col1\" class=\"data row5 col1\" >130.000000</td>\n",
       "      <td id=\"T_3fe50_row5_col2\" class=\"data row5 col2\" >240.000000</td>\n",
       "      <td id=\"T_3fe50_row5_col3\" class=\"data row5 col3\" >153.000000</td>\n",
       "      <td id=\"T_3fe50_row5_col4\" class=\"data row5 col4\" >0.800000</td>\n",
       "    </tr>\n",
       "    <tr>\n",
       "      <th id=\"T_3fe50_level0_row6\" class=\"row_heading level0 row6\" >75%</th>\n",
       "      <td id=\"T_3fe50_row6_col0\" class=\"data row6 col0\" >61.000000</td>\n",
       "      <td id=\"T_3fe50_row6_col1\" class=\"data row6 col1\" >140.000000</td>\n",
       "      <td id=\"T_3fe50_row6_col2\" class=\"data row6 col2\" >274.500000</td>\n",
       "      <td id=\"T_3fe50_row6_col3\" class=\"data row6 col3\" >166.000000</td>\n",
       "      <td id=\"T_3fe50_row6_col4\" class=\"data row6 col4\" >1.600000</td>\n",
       "    </tr>\n",
       "    <tr>\n",
       "      <th id=\"T_3fe50_level0_row7\" class=\"row_heading level0 row7\" >max</th>\n",
       "      <td id=\"T_3fe50_row7_col0\" class=\"data row7 col0\" >77.000000</td>\n",
       "      <td id=\"T_3fe50_row7_col1\" class=\"data row7 col1\" >200.000000</td>\n",
       "      <td id=\"T_3fe50_row7_col2\" class=\"data row7 col2\" >564.000000</td>\n",
       "      <td id=\"T_3fe50_row7_col3\" class=\"data row7 col3\" >202.000000</td>\n",
       "      <td id=\"T_3fe50_row7_col4\" class=\"data row7 col4\" >6.200000</td>\n",
       "    </tr>\n",
       "  </tbody>\n",
       "</table>\n"
      ],
      "text/plain": [
       "<pandas.io.formats.style.Styler at 0x7f012a9ad350>"
      ]
     },
     "execution_count": 30,
     "metadata": {},
     "output_type": "execute_result"
    }
   ],
   "source": [
    "h_num.describe().style.background_gradient('Greens')"
   ]
  },
  {
   "cell_type": "markdown",
   "id": "faabc832",
   "metadata": {
    "id": "faabc832"
   },
   "source": [
    "75% of the sample Age is above 48\n",
    "\n",
    "\n",
    "trtbps(Resting BP,systolic)\n",
    "    90 to 120 mmHg normal\n",
    "    130mmHg or high - high blood pressure\n",
    "50% of the sample has high BP\n",
    "\n",
    "\n",
    "chol -LDL - (Bad cholesterol)\n",
    "    should less than 130 - mg/dl\n",
    "    75% of the sample have high cholesterol\n",
    "\n",
    "\n",
    "oldpeak - ST depression induced by exercise\n",
    "   The standard criterion for an abnormal ST segment response is horizontal (planar) or downsloping depression of >1 mm\n",
    "    less than 50% of sample have depression of >1 mm"
   ]
  },
  {
   "cell_type": "markdown",
   "id": "c1fab3d2",
   "metadata": {
    "id": "c1fab3d2"
   },
   "source": [
    "# Bivariate Analysis"
   ]
  },
  {
   "cell_type": "code",
   "execution_count": 31,
   "id": "6ceaaf48",
   "metadata": {
    "colab": {
     "base_uri": "https://localhost:8080/",
     "height": 206
    },
    "id": "6ceaaf48",
    "outputId": "8289032a-c7bd-4ad9-b9f4-a85c9e29d4bd"
   },
   "outputs": [
    {
     "data": {
      "text/html": [
       "<style type=\"text/css\">\n",
       "#T_20a90_row0_col0, #T_20a90_row1_col1, #T_20a90_row2_col2, #T_20a90_row3_col3, #T_20a90_row4_col4 {\n",
       "  background-color: #00441b;\n",
       "  color: #f1f1f1;\n",
       "}\n",
       "#T_20a90_row0_col1 {\n",
       "  background-color: #b5e1ae;\n",
       "  color: #000000;\n",
       "}\n",
       "#T_20a90_row0_col2 {\n",
       "  background-color: #ceecc8;\n",
       "  color: #000000;\n",
       "}\n",
       "#T_20a90_row0_col3, #T_20a90_row3_col0, #T_20a90_row3_col1, #T_20a90_row3_col2, #T_20a90_row3_col4 {\n",
       "  background-color: #f7fcf5;\n",
       "  color: #000000;\n",
       "}\n",
       "#T_20a90_row0_col4 {\n",
       "  background-color: #94d390;\n",
       "  color: #000000;\n",
       "}\n",
       "#T_20a90_row1_col0 {\n",
       "  background-color: #79c67a;\n",
       "  color: #000000;\n",
       "}\n",
       "#T_20a90_row1_col2 {\n",
       "  background-color: #e4f5df;\n",
       "  color: #000000;\n",
       "}\n",
       "#T_20a90_row1_col3 {\n",
       "  background-color: #c7e9c0;\n",
       "  color: #000000;\n",
       "}\n",
       "#T_20a90_row1_col4 {\n",
       "  background-color: #98d594;\n",
       "  color: #000000;\n",
       "}\n",
       "#T_20a90_row2_col0 {\n",
       "  background-color: #8ace88;\n",
       "  color: #000000;\n",
       "}\n",
       "#T_20a90_row2_col1 {\n",
       "  background-color: #dcf2d7;\n",
       "  color: #000000;\n",
       "}\n",
       "#T_20a90_row2_col3 {\n",
       "  background-color: #bee5b8;\n",
       "  color: #000000;\n",
       "}\n",
       "#T_20a90_row2_col4 {\n",
       "  background-color: #bae3b3;\n",
       "  color: #000000;\n",
       "}\n",
       "#T_20a90_row4_col0 {\n",
       "  background-color: #8bcf89;\n",
       "  color: #000000;\n",
       "}\n",
       "#T_20a90_row4_col1 {\n",
       "  background-color: #ccebc6;\n",
       "  color: #000000;\n",
       "}\n",
       "#T_20a90_row4_col2 {\n",
       "  background-color: #eef8ea;\n",
       "  color: #000000;\n",
       "}\n",
       "#T_20a90_row4_col3 {\n",
       "  background-color: #f2faef;\n",
       "  color: #000000;\n",
       "}\n",
       "</style>\n",
       "<table id=\"T_20a90_\" class=\"dataframe\">\n",
       "  <thead>\n",
       "    <tr>\n",
       "      <th class=\"blank level0\" >&nbsp;</th>\n",
       "      <th class=\"col_heading level0 col0\" >age</th>\n",
       "      <th class=\"col_heading level0 col1\" >trtbps</th>\n",
       "      <th class=\"col_heading level0 col2\" >chol</th>\n",
       "      <th class=\"col_heading level0 col3\" >thalachh</th>\n",
       "      <th class=\"col_heading level0 col4\" >oldpeak</th>\n",
       "    </tr>\n",
       "  </thead>\n",
       "  <tbody>\n",
       "    <tr>\n",
       "      <th id=\"T_20a90_level0_row0\" class=\"row_heading level0 row0\" >age</th>\n",
       "      <td id=\"T_20a90_row0_col0\" class=\"data row0 col0\" >1.000000</td>\n",
       "      <td id=\"T_20a90_row0_col1\" class=\"data row0 col1\" >0.279351</td>\n",
       "      <td id=\"T_20a90_row0_col2\" class=\"data row0 col2\" >0.213678</td>\n",
       "      <td id=\"T_20a90_row0_col3\" class=\"data row0 col3\" >-0.398522</td>\n",
       "      <td id=\"T_20a90_row0_col4\" class=\"data row0 col4\" >0.210013</td>\n",
       "    </tr>\n",
       "    <tr>\n",
       "      <th id=\"T_20a90_level0_row1\" class=\"row_heading level0 row1\" >trtbps</th>\n",
       "      <td id=\"T_20a90_row1_col0\" class=\"data row1 col0\" >0.279351</td>\n",
       "      <td id=\"T_20a90_row1_col1\" class=\"data row1 col1\" >1.000000</td>\n",
       "      <td id=\"T_20a90_row1_col2\" class=\"data row1 col2\" >0.123174</td>\n",
       "      <td id=\"T_20a90_row1_col3\" class=\"data row1 col3\" >-0.046698</td>\n",
       "      <td id=\"T_20a90_row1_col4\" class=\"data row1 col4\" >0.193216</td>\n",
       "    </tr>\n",
       "    <tr>\n",
       "      <th id=\"T_20a90_level0_row2\" class=\"row_heading level0 row2\" >chol</th>\n",
       "      <td id=\"T_20a90_row2_col0\" class=\"data row2 col0\" >0.213678</td>\n",
       "      <td id=\"T_20a90_row2_col1\" class=\"data row2 col1\" >0.123174</td>\n",
       "      <td id=\"T_20a90_row2_col2\" class=\"data row2 col2\" >1.000000</td>\n",
       "      <td id=\"T_20a90_row2_col3\" class=\"data row2 col3\" >-0.009940</td>\n",
       "      <td id=\"T_20a90_row2_col4\" class=\"data row2 col4\" >0.053952</td>\n",
       "    </tr>\n",
       "    <tr>\n",
       "      <th id=\"T_20a90_level0_row3\" class=\"row_heading level0 row3\" >thalachh</th>\n",
       "      <td id=\"T_20a90_row3_col0\" class=\"data row3 col0\" >-0.398522</td>\n",
       "      <td id=\"T_20a90_row3_col1\" class=\"data row3 col1\" >-0.046698</td>\n",
       "      <td id=\"T_20a90_row3_col2\" class=\"data row3 col2\" >-0.009940</td>\n",
       "      <td id=\"T_20a90_row3_col3\" class=\"data row3 col3\" >1.000000</td>\n",
       "      <td id=\"T_20a90_row3_col4\" class=\"data row3 col4\" >-0.344187</td>\n",
       "    </tr>\n",
       "    <tr>\n",
       "      <th id=\"T_20a90_level0_row4\" class=\"row_heading level0 row4\" >oldpeak</th>\n",
       "      <td id=\"T_20a90_row4_col0\" class=\"data row4 col0\" >0.210013</td>\n",
       "      <td id=\"T_20a90_row4_col1\" class=\"data row4 col1\" >0.193216</td>\n",
       "      <td id=\"T_20a90_row4_col2\" class=\"data row4 col2\" >0.053952</td>\n",
       "      <td id=\"T_20a90_row4_col3\" class=\"data row4 col3\" >-0.344187</td>\n",
       "      <td id=\"T_20a90_row4_col4\" class=\"data row4 col4\" >1.000000</td>\n",
       "    </tr>\n",
       "  </tbody>\n",
       "</table>\n"
      ],
      "text/plain": [
       "<pandas.io.formats.style.Styler at 0x7f0127b89190>"
      ]
     },
     "execution_count": 31,
     "metadata": {},
     "output_type": "execute_result"
    }
   ],
   "source": [
    "co = h_num.corr()\n",
    "co.style.background_gradient('Greens')"
   ]
  },
  {
   "cell_type": "markdown",
   "id": "143b6695",
   "metadata": {
    "id": "143b6695"
   },
   "source": [
    "# Assocition between categorical Variable using Cramers V"
   ]
  },
  {
   "cell_type": "code",
   "execution_count": 32,
   "id": "cd121473",
   "metadata": {
    "id": "cd121473"
   },
   "outputs": [],
   "source": [
    "from scipy.stats import chi2_contingency,chisquare\n",
    "def cramers_v(x, y):\n",
    "    confusion_matrix = pd.crosstab(x,y)\n",
    "    chi2 = chi2_contingency(confusion_matrix)[0]\n",
    "    n = confusion_matrix.sum().sum()\n",
    "    phi2 = chi2/n\n",
    "    r,k = confusion_matrix.shape\n",
    "    phi2corr = max(0, phi2-((k-1)*(r-1))/(n-1))\n",
    "    rcorr = r-((r-1)**2)/(n-1)\n",
    "    kcorr = k-((k-1)**2)/(n-1)\n",
    "    return np.sqrt(phi2corr/min((kcorr-1),(rcorr-1)))"
   ]
  },
  {
   "cell_type": "code",
   "execution_count": 118,
   "id": "ca5c2ebb",
   "metadata": {
    "id": "ca5c2ebb"
   },
   "outputs": [],
   "source": [
    "c = df.drop(['age','oldpeak','trtbps','chol','thalachh'],axis=1).columns\n",
    "co =  np.ones([9,9])\n",
    "cv_mat = np.tril(np.ones_like(co))\n",
    "x=0\n",
    "for r in c:\n",
    "    p=[]\n",
    "    for i in c:\n",
    "        if r != i:\n",
    "            cv = cramers_v(df[r],df[i])\n",
    "            p.append(cv)\n",
    "        else:\n",
    "            p_value = chisquare(df[i].value_counts().values,df[i].value_counts().values)\n",
    "            p.append(p_value[1])\n",
    "    cv_mat[x] = cv_mat[x] *p\n",
    "    x+=1"
   ]
  },
  {
   "cell_type": "code",
   "execution_count": 120,
   "id": "c4a035e0",
   "metadata": {
    "colab": {
     "base_uri": "https://localhost:8080/",
     "height": 435
    },
    "id": "c4a035e0",
    "outputId": "09746125-0a24-4ead-f5ac-b58af2656c91"
   },
   "outputs": [
    {
     "data": {
      "image/png": "[encoded data removed]",
      "text/plain": [
       "<Figure size 864x504 with 2 Axes>"
      ]
     },
     "metadata": {},
     "output_type": "display_data"
    }
   ],
   "source": [
    "fig,ax = plt.subplots(figsize=(12,7))\n",
    "sns.heatmap(DF(cv_mat,columns=c,index=c),mask=np.triu(np.ones([9,9])),annot=True,vmax=1,vmin=0)\n",
    "path = \"../input/Predictive-model/images.jfif\"\n",
    "character_img = mpimg.imread(path)\n",
    "imagebox = OffsetImage(character_img, zoom=0.5)\n",
    "xy = (.05, .1)\n",
    "ab = AnnotationBbox(imagebox, xy,xybox=(7.5,1),frameon=False)\n",
    "ax.add_artist(ab);"
   ]
  },
  {
   "cell_type": "markdown",
   "id": "5c441df3",
   "metadata": {
    "id": "5c441df3"
   },
   "source": [
    "#### Independent variables ['cp','exxng','slp','caa','thall'] have stronge association with the target variable 'OUTPUT'\n",
    "#### The independent variable cp and exng has stronge association with each other"
   ]
  },
  {
   "cell_type": "markdown",
   "id": "8188fd7b",
   "metadata": {
    "id": "8188fd7b"
   },
   "source": [
    "# Correlation between numerical and categorical variable using Anova Test"
   ]
  },
  {
   "cell_type": "code",
   "execution_count": 35,
   "id": "6257c241",
   "metadata": {
    "id": "6257c241"
   },
   "outputs": [],
   "source": [
    "from   statsmodels.formula.api import ols\n",
    "from   statsmodels.stats.anova import anova_lm\n",
    "p=[]\n",
    "for c in ['age','oldpeak','trtbps','chol','thalachh']:\n",
    "    m = ols(f'{c} ~ sex + cp + fbs + restecg + exng + slp + caa  + thall + output',data=df).fit()\n",
    "    aov_table = anova_lm(m, typ=2)\n",
    "    p.append(list(aov_table['PR(>F)'].values[:-1]))"
   ]
  },
  {
   "cell_type": "code",
   "execution_count": 36,
   "id": "877184c7",
   "metadata": {
    "colab": {
     "base_uri": "https://localhost:8080/",
     "height": 206
    },
    "id": "877184c7",
    "outputId": "dad09ea3-874f-4fc8-eab7-4fb11c57c87d"
   },
   "outputs": [
    {
     "data": {
      "text/html": [
       "<style type=\"text/css\">\n",
       "#T_53c66_row0_col0 {\n",
       "  background-color: #77b5d9;\n",
       "  color: #000000;\n",
       "}\n",
       "#T_53c66_row0_col1 {\n",
       "  background-color: #cfe1f2;\n",
       "  color: #000000;\n",
       "}\n",
       "#T_53c66_row0_col2 {\n",
       "  background-color: #a6cee4;\n",
       "  color: #000000;\n",
       "}\n",
       "#T_53c66_row0_col3 {\n",
       "  background-color: #f6faff;\n",
       "  color: #000000;\n",
       "}\n",
       "#T_53c66_row0_col4 {\n",
       "  background-color: #3686c0;\n",
       "  color: #f1f1f1;\n",
       "}\n",
       "#T_53c66_row0_col5, #T_53c66_row0_col7, #T_53c66_row1_col3, #T_53c66_row1_col4, #T_53c66_row2_col6, #T_53c66_row3_col0, #T_53c66_row3_col1, #T_53c66_row3_col2, #T_53c66_row3_col8 {\n",
       "  background-color: #08306b;\n",
       "  color: #f1f1f1;\n",
       "}\n",
       "#T_53c66_row0_col6, #T_53c66_row1_col0, #T_53c66_row1_col2, #T_53c66_row1_col6, #T_53c66_row1_col8, #T_53c66_row2_col1, #T_53c66_row3_col3, #T_53c66_row3_col4, #T_53c66_row3_col7, #T_53c66_row4_col2, #T_53c66_row4_col5 {\n",
       "  background-color: #f7fbff;\n",
       "  color: #000000;\n",
       "}\n",
       "#T_53c66_row0_col8 {\n",
       "  background-color: #0e58a2;\n",
       "  color: #f1f1f1;\n",
       "}\n",
       "#T_53c66_row1_col1 {\n",
       "  background-color: #e2edf8;\n",
       "  color: #000000;\n",
       "}\n",
       "#T_53c66_row1_col5 {\n",
       "  background-color: #cee0f2;\n",
       "  color: #000000;\n",
       "}\n",
       "#T_53c66_row1_col7 {\n",
       "  background-color: #e1edf8;\n",
       "  color: #000000;\n",
       "}\n",
       "#T_53c66_row2_col0, #T_53c66_row2_col3 {\n",
       "  background-color: #f4f9fe;\n",
       "  color: #000000;\n",
       "}\n",
       "#T_53c66_row2_col2 {\n",
       "  background-color: #a4cce3;\n",
       "  color: #000000;\n",
       "}\n",
       "#T_53c66_row2_col4 {\n",
       "  background-color: #89bedc;\n",
       "  color: #000000;\n",
       "}\n",
       "#T_53c66_row2_col5 {\n",
       "  background-color: #1e6db2;\n",
       "  color: #f1f1f1;\n",
       "}\n",
       "#T_53c66_row2_col7 {\n",
       "  background-color: #3585bf;\n",
       "  color: #f1f1f1;\n",
       "}\n",
       "#T_53c66_row2_col8 {\n",
       "  background-color: #f3f8fe;\n",
       "  color: #000000;\n",
       "}\n",
       "#T_53c66_row3_col5 {\n",
       "  background-color: #71b1d7;\n",
       "  color: #f1f1f1;\n",
       "}\n",
       "#T_53c66_row3_col6 {\n",
       "  background-color: #d3e3f3;\n",
       "  color: #000000;\n",
       "}\n",
       "#T_53c66_row4_col0 {\n",
       "  background-color: #eaf3fb;\n",
       "  color: #000000;\n",
       "}\n",
       "#T_53c66_row4_col1 {\n",
       "  background-color: #084b93;\n",
       "  color: #f1f1f1;\n",
       "}\n",
       "#T_53c66_row4_col3 {\n",
       "  background-color: #2575b7;\n",
       "  color: #f1f1f1;\n",
       "}\n",
       "#T_53c66_row4_col4 {\n",
       "  background-color: #084285;\n",
       "  color: #f1f1f1;\n",
       "}\n",
       "#T_53c66_row4_col6 {\n",
       "  background-color: #e8f1fa;\n",
       "  color: #000000;\n",
       "}\n",
       "#T_53c66_row4_col7 {\n",
       "  background-color: #d6e6f4;\n",
       "  color: #000000;\n",
       "}\n",
       "#T_53c66_row4_col8 {\n",
       "  background-color: #f0f6fd;\n",
       "  color: #000000;\n",
       "}\n",
       "</style>\n",
       "<table id=\"T_53c66_\" class=\"dataframe\">\n",
       "  <thead>\n",
       "    <tr>\n",
       "      <th class=\"blank level0\" >&nbsp;</th>\n",
       "      <th class=\"col_heading level0 col0\" >sex</th>\n",
       "      <th class=\"col_heading level0 col1\" >cp</th>\n",
       "      <th class=\"col_heading level0 col2\" >fbs</th>\n",
       "      <th class=\"col_heading level0 col3\" >restecg</th>\n",
       "      <th class=\"col_heading level0 col4\" >exng</th>\n",
       "      <th class=\"col_heading level0 col5\" >slp</th>\n",
       "      <th class=\"col_heading level0 col6\" >caa</th>\n",
       "      <th class=\"col_heading level0 col7\" >thall</th>\n",
       "      <th class=\"col_heading level0 col8\" >output</th>\n",
       "    </tr>\n",
       "  </thead>\n",
       "  <tbody>\n",
       "    <tr>\n",
       "      <th id=\"T_53c66_level0_row0\" class=\"row_heading level0 row0\" >age</th>\n",
       "      <td id=\"T_53c66_row0_col0\" class=\"data row0 col0\" >0.454496</td>\n",
       "      <td id=\"T_53c66_row0_col1\" class=\"data row0 col1\" >0.207980</td>\n",
       "      <td id=\"T_53c66_row0_col2\" class=\"data row0 col2\" >0.247706</td>\n",
       "      <td id=\"T_53c66_row0_col3\" class=\"data row0 col3\" >0.004848</td>\n",
       "      <td id=\"T_53c66_row0_col4\" class=\"data row0 col4\" >0.304746</td>\n",
       "      <td id=\"T_53c66_row0_col5\" class=\"data row0 col5\" >0.946775</td>\n",
       "      <td id=\"T_53c66_row0_col6\" class=\"data row0 col6\" >0.000000</td>\n",
       "      <td id=\"T_53c66_row0_col7\" class=\"data row0 col7\" >0.842068</td>\n",
       "      <td id=\"T_53c66_row0_col8\" class=\"data row0 col8\" >0.416719</td>\n",
       "    </tr>\n",
       "    <tr>\n",
       "      <th id=\"T_53c66_level0_row1\" class=\"row_heading level0 row1\" >oldpeak</th>\n",
       "      <td id=\"T_53c66_row1_col0\" class=\"data row1 col0\" >0.025390</td>\n",
       "      <td id=\"T_53c66_row1_col1\" class=\"data row1 col1\" >0.112112</td>\n",
       "      <td id=\"T_53c66_row1_col2\" class=\"data row1 col2\" >0.000000</td>\n",
       "      <td id=\"T_53c66_row1_col3\" class=\"data row1 col3\" >0.873442</td>\n",
       "      <td id=\"T_53c66_row1_col4\" class=\"data row1 col4\" >0.449520</td>\n",
       "      <td id=\"T_53c66_row1_col5\" class=\"data row1 col5\" >0.198983</td>\n",
       "      <td id=\"T_53c66_row1_col6\" class=\"data row1 col6\" >0.000385</td>\n",
       "      <td id=\"T_53c66_row1_col7\" class=\"data row1 col7\" >0.184783</td>\n",
       "      <td id=\"T_53c66_row1_col8\" class=\"data row1 col8\" >0.021855</td>\n",
       "    </tr>\n",
       "    <tr>\n",
       "      <th id=\"T_53c66_level0_row2\" class=\"row_heading level0 row2\" >trtbps</th>\n",
       "      <td id=\"T_53c66_row2_col0\" class=\"data row2 col0\" >0.040685</td>\n",
       "      <td id=\"T_53c66_row2_col1\" class=\"data row2 col1\" >0.009899</td>\n",
       "      <td id=\"T_53c66_row2_col2\" class=\"data row2 col2\" >0.253576</td>\n",
       "      <td id=\"T_53c66_row2_col3\" class=\"data row2 col3\" >0.016724</td>\n",
       "      <td id=\"T_53c66_row2_col4\" class=\"data row2 col4\" >0.197193</td>\n",
       "      <td id=\"T_53c66_row2_col5\" class=\"data row2 col5\" >0.724739</td>\n",
       "      <td id=\"T_53c66_row2_col6\" class=\"data row2 col6\" >0.791332</td>\n",
       "      <td id=\"T_53c66_row2_col7\" class=\"data row2 col7\" >0.600369</td>\n",
       "      <td id=\"T_53c66_row2_col8\" class=\"data row2 col8\" >0.032137</td>\n",
       "    </tr>\n",
       "    <tr>\n",
       "      <th id=\"T_53c66_level0_row3\" class=\"row_heading level0 row3\" >chol</th>\n",
       "      <td id=\"T_53c66_row3_col0\" class=\"data row3 col0\" >0.939881</td>\n",
       "      <td id=\"T_53c66_row3_col1\" class=\"data row3 col1\" >0.968546</td>\n",
       "      <td id=\"T_53c66_row3_col2\" class=\"data row3 col2\" >0.708543</td>\n",
       "      <td id=\"T_53c66_row3_col3\" class=\"data row3 col3\" >0.000028</td>\n",
       "      <td id=\"T_53c66_row3_col4\" class=\"data row3 col4\" >0.008522</td>\n",
       "      <td id=\"T_53c66_row3_col5\" class=\"data row3 col5\" >0.461655</td>\n",
       "      <td id=\"T_53c66_row3_col6\" class=\"data row3 col6\" >0.148202</td>\n",
       "      <td id=\"T_53c66_row3_col7\" class=\"data row3 col7\" >0.102078</td>\n",
       "      <td id=\"T_53c66_row3_col8\" class=\"data row3 col8\" >0.489025</td>\n",
       "    </tr>\n",
       "    <tr>\n",
       "      <th id=\"T_53c66_level0_row4\" class=\"row_heading level0 row4\" >thalachh</th>\n",
       "      <td id=\"T_53c66_row4_col0\" class=\"data row4 col0\" >0.085605</td>\n",
       "      <td id=\"T_53c66_row4_col1\" class=\"data row4 col1\" >0.869461</td>\n",
       "      <td id=\"T_53c66_row4_col2\" class=\"data row4 col2\" >0.000000</td>\n",
       "      <td id=\"T_53c66_row4_col3\" class=\"data row4 col3\" >0.641179</td>\n",
       "      <td id=\"T_53c66_row4_col4\" class=\"data row4 col4\" >0.420230</td>\n",
       "      <td id=\"T_53c66_row4_col5\" class=\"data row4 col5\" >0.003236</td>\n",
       "      <td id=\"T_53c66_row4_col6\" class=\"data row4 col6\" >0.061587</td>\n",
       "      <td id=\"T_53c66_row4_col7\" class=\"data row4 col7\" >0.224434</td>\n",
       "      <td id=\"T_53c66_row4_col8\" class=\"data row4 col8\" >0.039892</td>\n",
       "    </tr>\n",
       "  </tbody>\n",
       "</table>\n"
      ],
      "text/plain": [
       "<pandas.io.formats.style.Styler at 0x7f0127b60690>"
      ]
     },
     "execution_count": 36,
     "metadata": {},
     "output_type": "execute_result"
    }
   ],
   "source": [
    "num = ['age','oldpeak','trtbps','chol','thalachh']\n",
    "obj = df.drop(['age','oldpeak','trtbps','chol','thalachh'],axis=1).columns\n",
    "DF(p,columns=obj,index=num).style.background_gradient('Blues')"
   ]
  },
  {
   "cell_type": "code",
   "execution_count": 37,
   "id": "3cd25c46",
   "metadata": {
    "colab": {
     "base_uri": "https://localhost:8080/"
    },
    "id": "3cd25c46",
    "outputId": "97fe0f8c-6eab-478c-e641-5856ee16c48e"
   },
   "outputs": [
    {
     "data": {
      "text/plain": [
       "sex\n",
       "0    261.302083\n",
       "1    239.289855\n",
       "Name: chol, dtype: float64"
      ]
     },
     "execution_count": 37,
     "metadata": {},
     "output_type": "execute_result"
    }
   ],
   "source": [
    "df.groupby('sex').chol.mean()"
   ]
  },
  {
   "cell_type": "markdown",
   "id": "0a5f9ede",
   "metadata": {
    "id": "0a5f9ede"
   },
   "source": [
    "#### Distribution of population Age of male and female are different\n",
    "#### male has lower avg cholestrol level than female\n",
    "#### People from all group has chance of getting Heart attack\n",
    "#### Cholestrol levels are same for people who get heart attack and health"
   ]
  },
  {
   "cell_type": "markdown",
   "id": "8b51f4f5",
   "metadata": {
    "id": "8b51f4f5"
   },
   "source": [
    "# Distribution of the numerical variable"
   ]
  },
  {
   "cell_type": "code",
   "execution_count": 38,
   "id": "f8edb9cd",
   "metadata": {
    "colab": {
     "base_uri": "https://localhost:8080/",
     "height": 1000
    },
    "id": "f8edb9cd",
    "outputId": "5a567f1e-03fc-49cf-f95b-6259d95ecb61"
   },
   "outputs": [
    {
     "data": {
      "image/png": "[encoded data removed]",
      "text/plain": [
       "<Figure size 1296x1296 with 10 Axes>"
      ]
     },
     "metadata": {},
     "output_type": "display_data"
    }
   ],
   "source": [
    "fig = plt.figure(figsize=(18,18))\n",
    "gs = fig.add_gridspec(5,2)\n",
    "gs.update(wspace=0.5, hspace=0.5)\n",
    "ax0 = fig.add_subplot(gs[0,0])\n",
    "ax1 = fig.add_subplot(gs[0,1])\n",
    "ax2 = fig.add_subplot(gs[1,0])\n",
    "ax3 = fig.add_subplot(gs[1,1])\n",
    "ax4 = fig.add_subplot(gs[2,0])\n",
    "ax5 = fig.add_subplot(gs[2,1])\n",
    "ax6 = fig.add_subplot(gs[3,0])\n",
    "ax7 = fig.add_subplot(gs[3,1])\n",
    "ax8 = fig.add_subplot(gs[4,0])\n",
    "ax9 = fig.add_subplot(gs[4,1])\n",
    "\n",
    "background_color = \"papayawhip\"\n",
    "color_palette = [\"#800000\",\"#8000ff\",\"#6aac90\",\"#5833ff\",\"#da8829\"]\n",
    "fig.patch.set_facecolor(background_color) \n",
    "\n",
    "for i in [ax0,ax1,ax2,ax3,ax4,ax5,ax6,ax7,ax8,ax9]:\n",
    "    i.set_facecolor(background_color) \n",
    "\n",
    "d={}\n",
    "c = ['age','trtbps','chol','thalachh','oldpeak']\n",
    "a = [ax0,ax2,ax4,ax6,ax8]\n",
    "for i,j in zip(c,a):\n",
    "    d.update({i:j})\n",
    "    \n",
    "def Title(d):\n",
    "    for i in d:\n",
    "        d[i].text(0.5,0.5,f\"Distribution of {i}\\naccording to\\n target variable\\n___________\",\n",
    "        horizontalalignment = 'center',\n",
    "        verticalalignment = 'center',\n",
    "        fontsize = 18,\n",
    "        fontweight='bold',\n",
    "        fontfamily='serif',\n",
    "        color='#000000')\n",
    "        d[i].spines[\"bottom\"].set_visible(False)\n",
    "        d[i].set_xticklabels([])\n",
    "        d[i].set_yticklabels([])\n",
    "        d[i].tick_params(left=False, bottom=False)\n",
    "    return\n",
    "\n",
    "\n",
    "# title\n",
    "Title(d)\n",
    "\n",
    "\n",
    "# Age\n",
    "ax1.grid(color='#000000', linestyle=':', axis='y', zorder=0,  dashes=(1,5))\n",
    "sns.kdeplot(ax=ax1, data=df, x='age',hue=\"output\", fill=True,palette=[\"#8000ff\",\"#da8829\"], alpha=.5, linewidth=0)\n",
    "ax1.set_xlabel(\"\")\n",
    "ax1.set_ylabel(\"\")\n",
    "\n",
    "\n",
    "# TrTbps\n",
    "ax3.grid(color='#000000', linestyle=':', axis='y', zorder=0,  dashes=(1,5))\n",
    "sns.kdeplot(ax=ax3, data=df, x='trtbps',hue=\"output\", fill=True,palette=[\"#8000ff\",\"#da8829\"], alpha=.5, linewidth=0)\n",
    "ax3.set_xlabel(\"\")\n",
    "ax3.set_ylabel(\"\")\n",
    "\n",
    "\n",
    "# Chol\n",
    "ax5.grid(color='#000000', linestyle=':', axis='y', zorder=0,  dashes=(1,5))\n",
    "sns.kdeplot(ax=ax5, data=df, x='chol',hue=\"output\", fill=True,palette=[\"#8000ff\",\"#da8829\"], alpha=.5, linewidth=0)\n",
    "ax5.set_xlabel(\"\")\n",
    "ax5.set_ylabel(\"\")\n",
    "\n",
    "\n",
    "# Thalachh\n",
    "ax7.grid(color='#000000', linestyle=':', axis='y', zorder=0,  dashes=(1,5))\n",
    "sns.kdeplot(ax=ax7, data=df, x='thalachh',hue=\"output\", fill=True,palette=[\"#8000ff\",\"#da8829\"], alpha=.5, linewidth=0)\n",
    "ax7.set_xlabel(\"\")\n",
    "ax7.set_ylabel(\"\")\n",
    "\n",
    "\n",
    "# Oldpeak\n",
    "ax9.grid(color='#000000', linestyle=':', axis='y', zorder=0,  dashes=(1,5))\n",
    "sns.kdeplot(ax=ax9, data=df, x='oldpeak',hue=\"output\", fill=True,palette=[\"#8000ff\",\"#da8829\"], alpha=.5, linewidth=0)\n",
    "ax9.set_xlabel(\"\")\n",
    "ax9.set_ylabel(\"\")\n",
    "\n",
    "# removing the spines\n",
    "for i in [\"top\",\"left\",\"right\"]:\n",
    "    for j in [ax0,ax1,ax2,ax3,ax4,ax5,ax6,ax7,ax8,ax9]:\n",
    "        j.spines[i].set_visible(False)\n",
    "    "
   ]
  },
  {
   "cell_type": "markdown",
   "id": "3f76c827",
   "metadata": {
    "id": "3f76c827"
   },
   "source": [
    "#### 1.) It is intuitive that elder people might have higher chances of heart attack but according to the distribution plot of age wrt output, it is evident that this isn't the case.\n",
    "#### 2.) The distribution plot of chol wrt output tells us the cholestral levels are same for both\n",
    "#### 3.) According to the distribution plot of thalachh wrt output, people with higher maximum heart rate( at rest ) have higher chances of heart attack.\n",
    "#### 4.) The distribution plot of oldpeak wrt output, people with ST - Deppresion between (0 - 1 mm) have high risk of heart attack."
   ]
  },
  {
   "cell_type": "markdown",
   "id": "36ae0744",
   "metadata": {
    "id": "36ae0744"
   },
   "source": [
    "## Multivarient Analysis"
   ]
  },
  {
   "cell_type": "code",
   "execution_count": 39,
   "id": "ab0f1a85",
   "metadata": {
    "colab": {
     "base_uri": "https://localhost:8080/",
     "height": 340
    },
    "id": "ab0f1a85",
    "outputId": "abfaf076-25b4-458b-c6ef-f4a471eba95c"
   },
   "outputs": [
    {
     "data": {
      "image/png": "[encoded data removed]",
      "text/plain": [
       "<Figure size 720x360 with 1 Axes>"
      ]
     },
     "metadata": {},
     "output_type": "display_data"
    }
   ],
   "source": [
    "sns.scatterplot(x='age',y='chol',data = df,hue = 'output')\n",
    "plt.xlabel('Age',fontsize=15, fontweight='bold', fontfamily='serif', color=\"#000000\")\n",
    "plt.ylabel('Cholesterol',fontsize=15, fontweight='bold', fontfamily='serif', color=\"#000000\");"
   ]
  },
  {
   "cell_type": "markdown",
   "id": "c910173e",
   "metadata": {
    "id": "c910173e"
   },
   "source": [
    "#### Age and Cholesterol have a Positive relation \n",
    "#### Person in Age range of (40 to 55) are more Prone to heart attack"
   ]
  },
  {
   "cell_type": "code",
   "execution_count": 40,
   "id": "163a610b",
   "metadata": {
    "colab": {
     "base_uri": "https://localhost:8080/",
     "height": 366
    },
    "id": "163a610b",
    "outputId": "9e506d11-7757-42ea-d5e9-ea20a3c6b69c"
   },
   "outputs": [
    {
     "data": {
      "image/png": "[encoded data removed]",
      "text/plain": [
       "<Figure size 768.425x360 with 1 Axes>"
      ]
     },
     "metadata": {},
     "output_type": "display_data"
    }
   ],
   "source": [
    "#fig,ax = plt.subplots(figsize=(15,5))\n",
    "sns.lmplot(x='age',y='thalachh',data = df,hue = 'output',height=5,aspect=2)\n",
    "plt.xlabel('Age',fontsize=15, fontweight='bold', fontfamily='serif', color=\"#000000\")\n",
    "plt.ylabel('Heart Rate(Max)',fontsize=15, fontweight='bold', fontfamily='serif', color=\"#000000\");"
   ]
  },
  {
   "cell_type": "markdown",
   "id": "3f5842de",
   "metadata": {
    "id": "3f5842de"
   },
   "source": [
    "#### We clear see a Negative correlation between Heart_Rate and Age\n",
    "#### we can also say that person within the age of 40 to 50 with high heart rate has a high risk of getting Heart attack"
   ]
  },
  {
   "cell_type": "code",
   "execution_count": 41,
   "id": "f79735b1",
   "metadata": {
    "colab": {
     "base_uri": "https://localhost:8080/",
     "height": 340
    },
    "id": "f79735b1",
    "outputId": "513ed494-bd19-498a-8b03-4b68d10fde09"
   },
   "outputs": [
    {
     "data": {
      "image/png": "[encoded data removed]",
      "text/plain": [
       "<Figure size 720x360 with 1 Axes>"
      ]
     },
     "metadata": {},
     "output_type": "display_data"
    }
   ],
   "source": [
    "sns.boxplot(y='thalachh',data = df,x= 'output')\n",
    "plt.xlabel('Output',fontsize=15, fontweight='bold', fontfamily='serif', color=\"#000000\")\n",
    "plt.ylabel('Heart Rate(Max)',fontsize=15, fontweight='bold', fontfamily='serif', color=\"#000000\");"
   ]
  },
  {
   "cell_type": "markdown",
   "id": "4039ab65",
   "metadata": {
    "id": "4039ab65"
   },
   "source": [
    "#### Patient with high Heart rate in rest state has high chance of Heart attack"
   ]
  },
  {
   "cell_type": "markdown",
   "id": "b97591e3",
   "metadata": {
    "id": "b97591e3"
   },
   "source": [
    "# Encoding"
   ]
  },
  {
   "cell_type": "markdown",
   "id": "c95b33fb",
   "metadata": {
    "id": "c95b33fb"
   },
   "source": [
    "Categorical columns to be encoded\\\n",
    "1.) cp - chest pain\\\n",
    "2.) fgs - Diabetic\\\n",
    "3.) slp - ST - T slope"
   ]
  },
  {
   "cell_type": "code",
   "execution_count": 43,
   "id": "26576626",
   "metadata": {
    "id": "26576626"
   },
   "outputs": [],
   "source": [
    "from sklearn.preprocessing import OrdinalEncoder as oe"
   ]
  },
  {
   "cell_type": "code",
   "execution_count": 44,
   "id": "a441d8a6",
   "metadata": {
    "id": "a441d8a6",
    "scrolled": true
   },
   "outputs": [],
   "source": [
    "OE = oe(categories=[['typical angina','atypical angina','non-anginal pain','asymptomatic']])\n",
    "df['cp'] = OE.fit_transform(df[['cp']])\n",
    "df.fbs.replace({False:0,True:1},inplace=True)\n",
    "df.slp.replace({'upsloping':0,'flat':1,'downsloping':2},inplace=True)"
   ]
  },
  {
   "cell_type": "code",
   "execution_count": 45,
   "id": "043c5ad5",
   "metadata": {
    "colab": {
     "base_uri": "https://localhost:8080/"
    },
    "id": "043c5ad5",
    "outputId": "e9f88f48-d02a-4e7e-bc3e-4652d247bba4"
   },
   "outputs": [
    {
     "name": "stdout",
     "output_type": "stream",
     "text": [
      "<class 'pandas.core.frame.DataFrame'>\n",
      "RangeIndex: 303 entries, 0 to 302\n",
      "Data columns (total 14 columns):\n",
      " #   Column    Non-Null Count  Dtype  \n",
      "---  ------    --------------  -----  \n",
      " 0   age       303 non-null    int64  \n",
      " 1   sex       303 non-null    int64  \n",
      " 2   cp        303 non-null    float64\n",
      " 3   trtbps    303 non-null    int64  \n",
      " 4   chol      303 non-null    int64  \n",
      " 5   fbs       303 non-null    int64  \n",
      " 6   restecg   303 non-null    int64  \n",
      " 7   thalachh  303 non-null    int64  \n",
      " 8   exng      303 non-null    int64  \n",
      " 9   oldpeak   303 non-null    float64\n",
      " 10  slp       303 non-null    int64  \n",
      " 11  caa       303 non-null    float64\n",
      " 12  thall     303 non-null    float64\n",
      " 13  output    303 non-null    int64  \n",
      "dtypes: float64(4), int64(10)\n",
      "memory usage: 33.3 KB\n"
     ]
    }
   ],
   "source": [
    "df.info()"
   ]
  },
  {
   "cell_type": "code",
   "execution_count": 47,
   "id": "badd7910",
   "metadata": {
    "colab": {
     "base_uri": "https://localhost:8080/",
     "height": 134
    },
    "id": "badd7910",
    "outputId": "f26e8d73-2f1e-4634-e870-3cd571376fa1"
   },
   "outputs": [
    {
     "ename": "SyntaxError",
     "evalue": "ignored",
     "output_type": "error",
     "traceback": [
      "\u001b[0;36m  File \u001b[0;32m\"<ipython-input-47-5abab518f65f>\"\u001b[0;36m, line \u001b[0;32m6\u001b[0m\n\u001b[0;31m    \u001b[0m\n\u001b[0m    ^\u001b[0m\n\u001b[0;31mSyntaxError\u001b[0m\u001b[0;31m:\u001b[0m unexpected EOF while parsing\n"
     ]
    }
   ],
   "source": [
    "from scipy.stats import ttest_ind \n",
    "df_0 = df[df.output==0].copy()\n",
    "df_1 = df[df.output==1].copy()\n",
    "for i in df.columns:\n",
    "    if df[i].unique()<3:\n",
    "        "
   ]
  },
  {
   "cell_type": "markdown",
   "id": "c813221e",
   "metadata": {
    "id": "c813221e"
   },
   "source": [
    "sex - sex (1 = male; 0 = female)\n",
    "cp - chest pain type (1 = typical angina; 2 = atypical angina; 3 = non-anginal pain; 0 = asymptomatic)\n",
    "fbs - fasting blood sugar > 120 mg/dl (1 = true; 0 = false)\n",
    "restecg - resting electrocardiographic results (0 = normal; 1 = having ST-T wave abnormality; 2 = hypertrophy( Thicken of ventricule by cholestrol))\n",
    "exng - exercise induced angina (1 = yes; 0 = no)\n",
    "slp - the slope of the peak exercise ST segment (0 = upsloping; 1 = flat; 2 = downsloping) (Exercise tolerance testing)\n",
    "caa - number of major vessels (0-3) colored by flourosopy\n",
    "thal - 1 = normal; 2 = fixed defect; 3 = reversable defect (thallium stress test)\n"
   ]
  },
  {
   "cell_type": "code",
   "execution_count": 49,
   "id": "a35bd234",
   "metadata": {
    "colab": {
     "base_uri": "https://localhost:8080/",
     "height": 363
    },
    "id": "a35bd234",
    "outputId": "dc918524-8049-49f8-890e-3e138ff27083"
   },
   "outputs": [
    {
     "data": {
      "application/vnd.google.colaboratory.intrinsic+json": {
       "type": "string"
      },
      "text/plain": [
       "''"
      ]
     },
     "execution_count": 49,
     "metadata": {},
     "output_type": "execute_result"
    },
    {
     "data": {
      "image/png": "[encoded data removed]",
      "text/plain": [
       "<Figure size 1080x360 with 2 Axes>"
      ]
     },
     "metadata": {},
     "output_type": "display_data"
    }
   ],
   "source": [
    "plt.subplots(figsize=(15,5))\n",
    "plt.subplot(121)\n",
    "sns.histplot(x='chol',data=heart,kde=True)\n",
    "plt.ylabel('Count',fontsize = 18,fontweight='bold',fontfamily='serif',color='#000000')\n",
    "plt.xlabel('Chol',fontsize = 18,fontweight='bold',fontfamily='serif',color='#000000')\n",
    "plt.subplot(122)\n",
    "sns.histplot(x='oldpeak',data=heart,kde=True)\n",
    "plt.ylabel('Count',fontsize = 18,fontweight='bold',fontfamily='serif',color='#000000')\n",
    "plt.xlabel('Oldpeak',fontsize = 18,fontweight='bold',fontfamily='serif',color='#000000')\n",
    ";"
   ]
  },
  {
   "cell_type": "code",
   "execution_count": 50,
   "id": "942ab635",
   "metadata": {
    "colab": {
     "base_uri": "https://localhost:8080/",
     "height": 206
    },
    "id": "942ab635",
    "outputId": "5708292a-9db7-47c9-cb53-b060fec50fbc"
   },
   "outputs": [
    {
     "data": {
      "text/html": [
       "\n",
       "  <div id=\"df-ccc5e257-d60b-4202-8bc7-1b97de7c8e9b\">\n",
       "    <div class=\"colab-df-container\">\n",
       "      <div>\n",
       "<style scoped>\n",
       "    .dataframe tbody tr th:only-of-type {\n",
       "        vertical-align: middle;\n",
       "    }\n",
       "\n",
       "    .dataframe tbody tr th {\n",
       "        vertical-align: top;\n",
       "    }\n",
       "\n",
       "    .dataframe thead th {\n",
       "        text-align: right;\n",
       "    }\n",
       "</style>\n",
       "<table border=\"1\" class=\"dataframe\">\n",
       "  <thead>\n",
       "    <tr style=\"text-align: right;\">\n",
       "      <th></th>\n",
       "      <th>age</th>\n",
       "      <th>sex</th>\n",
       "      <th>cp</th>\n",
       "      <th>trtbps</th>\n",
       "      <th>chol</th>\n",
       "      <th>fbs</th>\n",
       "      <th>restecg</th>\n",
       "      <th>thalachh</th>\n",
       "      <th>exng</th>\n",
       "      <th>oldpeak</th>\n",
       "      <th>slp</th>\n",
       "      <th>caa</th>\n",
       "      <th>thall</th>\n",
       "      <th>output</th>\n",
       "    </tr>\n",
       "  </thead>\n",
       "  <tbody>\n",
       "    <tr>\n",
       "      <th>0</th>\n",
       "      <td>63</td>\n",
       "      <td>1</td>\n",
       "      <td>3.0</td>\n",
       "      <td>145</td>\n",
       "      <td>233</td>\n",
       "      <td>1</td>\n",
       "      <td>0</td>\n",
       "      <td>150</td>\n",
       "      <td>0</td>\n",
       "      <td>1</td>\n",
       "      <td>0</td>\n",
       "      <td>0.0</td>\n",
       "      <td>1.0</td>\n",
       "      <td>1</td>\n",
       "    </tr>\n",
       "    <tr>\n",
       "      <th>1</th>\n",
       "      <td>37</td>\n",
       "      <td>1</td>\n",
       "      <td>2.0</td>\n",
       "      <td>130</td>\n",
       "      <td>250</td>\n",
       "      <td>0</td>\n",
       "      <td>1</td>\n",
       "      <td>187</td>\n",
       "      <td>0</td>\n",
       "      <td>1</td>\n",
       "      <td>0</td>\n",
       "      <td>0.0</td>\n",
       "      <td>2.0</td>\n",
       "      <td>1</td>\n",
       "    </tr>\n",
       "    <tr>\n",
       "      <th>2</th>\n",
       "      <td>41</td>\n",
       "      <td>0</td>\n",
       "      <td>1.0</td>\n",
       "      <td>130</td>\n",
       "      <td>204</td>\n",
       "      <td>0</td>\n",
       "      <td>0</td>\n",
       "      <td>172</td>\n",
       "      <td>0</td>\n",
       "      <td>1</td>\n",
       "      <td>2</td>\n",
       "      <td>0.0</td>\n",
       "      <td>2.0</td>\n",
       "      <td>1</td>\n",
       "    </tr>\n",
       "    <tr>\n",
       "      <th>3</th>\n",
       "      <td>56</td>\n",
       "      <td>1</td>\n",
       "      <td>1.0</td>\n",
       "      <td>120</td>\n",
       "      <td>236</td>\n",
       "      <td>0</td>\n",
       "      <td>1</td>\n",
       "      <td>178</td>\n",
       "      <td>0</td>\n",
       "      <td>0</td>\n",
       "      <td>2</td>\n",
       "      <td>0.0</td>\n",
       "      <td>2.0</td>\n",
       "      <td>1</td>\n",
       "    </tr>\n",
       "    <tr>\n",
       "      <th>4</th>\n",
       "      <td>57</td>\n",
       "      <td>0</td>\n",
       "      <td>0.0</td>\n",
       "      <td>120</td>\n",
       "      <td>354</td>\n",
       "      <td>0</td>\n",
       "      <td>1</td>\n",
       "      <td>163</td>\n",
       "      <td>1</td>\n",
       "      <td>0</td>\n",
       "      <td>2</td>\n",
       "      <td>0.0</td>\n",
       "      <td>2.0</td>\n",
       "      <td>1</td>\n",
       "    </tr>\n",
       "  </tbody>\n",
       "</table>\n",
       "</div>\n",
       "      <button class=\"colab-df-convert\" onclick=\"convertToInteractive('df-ccc5e257-d60b-4202-8bc7-1b97de7c8e9b')\"\n",
       "              title=\"Convert this dataframe to an interactive table.\"\n",
       "              style=\"display:none;\">\n",
       "        \n",
       "  <svg xmlns=\"http://www.w3.org/2000/svg\" height=\"24px\"viewBox=\"0 0 24 24\"\n",
       "       width=\"24px\">\n",
       "    <path d=\"M0 0h24v24H0V0z\" fill=\"none\"/>\n",
       "    <path d=\"M18.56 5.44l.94 2.06.94-2.06 2.06-.94-2.06-.94-.94-2.06-.94 2.06-2.06.94zm-11 1L8.5 8.5l.94-2.06 2.06-.94-2.06-.94L8.5 2.5l-.94 2.06-2.06.94zm10 10l.94 2.06.94-2.06 2.06-.94-2.06-.94-.94-2.06-.94 2.06-2.06.94z\"/><path d=\"M17.41 7.96l-1.37-1.37c-.4-.4-.92-.59-1.43-.59-.52 0-1.04.2-1.43.59L10.3 9.45l-7.72 7.72c-.78.78-.78 2.05 0 2.83L4 21.41c.39.39.9.59 1.41.59.51 0 1.02-.2 1.41-.59l7.78-7.78 2.81-2.81c.8-.78.8-2.07 0-2.86zM5.41 20L4 18.59l7.72-7.72 1.47 1.35L5.41 20z\"/>\n",
       "  </svg>\n",
       "      </button>\n",
       "      \n",
       "  <style>\n",
       "    .colab-df-container {\n",
       "      display:flex;\n",
       "      flex-wrap:wrap;\n",
       "      gap: 12px;\n",
       "    }\n",
       "\n",
       "    .colab-df-convert {\n",
       "      background-color: #E8F0FE;\n",
       "      border: none;\n",
       "      border-radius: 50%;\n",
       "      cursor: pointer;\n",
       "      display: none;\n",
       "      fill: #1967D2;\n",
       "      height: 32px;\n",
       "      padding: 0 0 0 0;\n",
       "      width: 32px;\n",
       "    }\n",
       "\n",
       "    .colab-df-convert:hover {\n",
       "      background-color: #E2EBFA;\n",
       "      box-shadow: 0px 1px 2px rgba(60, 64, 67, 0.3), 0px 1px 3px 1px rgba(60, 64, 67, 0.15);\n",
       "      fill: #174EA6;\n",
       "    }\n",
       "\n",
       "    [theme=dark] .colab-df-convert {\n",
       "      background-color: #3B4455;\n",
       "      fill: #D2E3FC;\n",
       "    }\n",
       "\n",
       "    [theme=dark] .colab-df-convert:hover {\n",
       "      background-color: #434B5C;\n",
       "      box-shadow: 0px 1px 3px 1px rgba(0, 0, 0, 0.15);\n",
       "      filter: drop-shadow(0px 1px 2px rgba(0, 0, 0, 0.3));\n",
       "      fill: #FFFFFF;\n",
       "    }\n",
       "  </style>\n",
       "\n",
       "      <script>\n",
       "        const buttonEl =\n",
       "          document.querySelector('#df-ccc5e257-d60b-4202-8bc7-1b97de7c8e9b button.colab-df-convert');\n",
       "        buttonEl.style.display =\n",
       "          google.colab.kernel.accessAllowed ? 'block' : 'none';\n",
       "\n",
       "        async function convertToInteractive(key) {\n",
       "          const element = document.querySelector('#df-ccc5e257-d60b-4202-8bc7-1b97de7c8e9b');\n",
       "          const dataTable =\n",
       "            await google.colab.kernel.invokeFunction('convertToInteractive',\n",
       "                                                     [key], {});\n",
       "          if (!dataTable) return;\n",
       "\n",
       "          const docLinkHtml = 'Like what you see? Visit the ' +\n",
       "            '<a target=\"_blank\" href=https://colab.research.google.com/notebooks/data_table.ipynb>data table notebook</a>'\n",
       "            + ' to learn more about interactive tables.';\n",
       "          element.innerHTML = '';\n",
       "          dataTable['output_type'] = 'display_data';\n",
       "          await google.colab.output.renderOutput(dataTable, element);\n",
       "          const docLink = document.createElement('div');\n",
       "          docLink.innerHTML = docLinkHtml;\n",
       "          element.appendChild(docLink);\n",
       "        }\n",
       "      </script>\n",
       "    </div>\n",
       "  </div>\n",
       "  "
      ],
      "text/plain": [
       "   age  sex   cp  trtbps  chol  fbs  restecg  thalachh  exng  oldpeak  slp  \\\n",
       "0   63    1  3.0     145   233    1        0       150     0        1    0   \n",
       "1   37    1  2.0     130   250    0        1       187     0        1    0   \n",
       "2   41    0  1.0     130   204    0        0       172     0        1    2   \n",
       "3   56    1  1.0     120   236    0        1       178     0        0    2   \n",
       "4   57    0  0.0     120   354    0        1       163     1        0    2   \n",
       "\n",
       "   caa  thall  output  \n",
       "0  0.0    1.0       1  \n",
       "1  0.0    2.0       1  \n",
       "2  0.0    2.0       1  \n",
       "3  0.0    2.0       1  \n",
       "4  0.0    2.0       1  "
      ]
     },
     "execution_count": 50,
     "metadata": {},
     "output_type": "execute_result"
    }
   ],
   "source": [
    "df['oldpeak'] = pd.cut(heart.oldpeak,bins=[0,1,6.3],labels=['Normal','Downslope'],right=False)\n",
    "df['oldpeak'] = pd.get_dummies(df.oldpeak,drop_first=True)\n",
    "df.head()"
   ]
  },
  {
   "cell_type": "code",
   "execution_count": 51,
   "id": "9693552b",
   "metadata": {
    "colab": {
     "base_uri": "https://localhost:8080/"
    },
    "id": "9693552b",
    "outputId": "d23ac209-00c8-4f85-d926-2dbe5013f40c"
   },
   "outputs": [
    {
     "data": {
      "text/plain": [
       "age         0\n",
       "sex         0\n",
       "cp          0\n",
       "trtbps      0\n",
       "chol        0\n",
       "fbs         0\n",
       "restecg     0\n",
       "thalachh    0\n",
       "exng        0\n",
       "oldpeak     0\n",
       "slp         0\n",
       "caa         0\n",
       "thall       0\n",
       "output      0\n",
       "dtype: int64"
      ]
     },
     "execution_count": 51,
     "metadata": {},
     "output_type": "execute_result"
    }
   ],
   "source": [
    "df.isnull().sum()"
   ]
  },
  {
   "cell_type": "markdown",
   "id": "235c7730",
   "metadata": {
    "id": "235c7730"
   },
   "source": [
    "# Model"
   ]
  },
  {
   "cell_type": "code",
   "execution_count": 52,
   "id": "cd2f6633",
   "metadata": {
    "id": "cd2f6633"
   },
   "outputs": [],
   "source": [
    "from sklearn.linear_model import LogisticRegression\n",
    "from sklearn.metrics import accuracy_score,confusion_matrix,classification_report,ConfusionMatrixDisplay\n",
    "from sklearn.model_selection import train_test_split,validation_curve\n",
    "from sklearn.preprocessing import StandardScaler as ss\n",
    "import statsmodels.api as sm\n",
    "from sklearn.tree import DecisionTreeClassifier\n",
    "from sklearn.ensemble import RandomForestClassifier\n",
    "from xgboost import XGBClassifier\n",
    "SS = ss()"
   ]
  },
  {
   "cell_type": "code",
   "execution_count": 53,
   "id": "a553d2b1",
   "metadata": {
    "colab": {
     "base_uri": "https://localhost:8080/",
     "height": 557
    },
    "id": "a553d2b1",
    "outputId": "0f35071a-7e93-4376-e159-73c4fb988061"
   },
   "outputs": [
    {
     "name": "stdout",
     "output_type": "stream",
     "text": [
      "Optimization terminated successfully.\n",
      "         Current function value: 0.357916\n",
      "         Iterations 7\n"
     ]
    },
    {
     "data": {
      "text/html": [
       "<table class=\"simpletable\">\n",
       "<caption>Logit Regression Results</caption>\n",
       "<tr>\n",
       "  <th>Dep. Variable:</th>        <td>output</td>      <th>  No. Observations:  </th>  <td>   212</td>  \n",
       "</tr>\n",
       "<tr>\n",
       "  <th>Model:</th>                 <td>Logit</td>      <th>  Df Residuals:      </th>  <td>   198</td>  \n",
       "</tr>\n",
       "<tr>\n",
       "  <th>Method:</th>                 <td>MLE</td>       <th>  Df Model:          </th>  <td>    13</td>  \n",
       "</tr>\n",
       "<tr>\n",
       "  <th>Date:</th>            <td>Wed, 21 Sep 2022</td> <th>  Pseudo R-squ.:     </th>  <td>0.4796</td>  \n",
       "</tr>\n",
       "<tr>\n",
       "  <th>Time:</th>                <td>04:35:07</td>     <th>  Log-Likelihood:    </th> <td> -75.878</td> \n",
       "</tr>\n",
       "<tr>\n",
       "  <th>converged:</th>             <td>True</td>       <th>  LL-Null:           </th> <td> -145.80</td> \n",
       "</tr>\n",
       "<tr>\n",
       "  <th>Covariance Type:</th>     <td>nonrobust</td>    <th>  LLR p-value:       </th> <td>2.255e-23</td>\n",
       "</tr>\n",
       "</table>\n",
       "<table class=\"simpletable\">\n",
       "<tr>\n",
       "      <td></td>        <th>coef</th>     <th>std err</th>      <th>z</th>      <th>P>|z|</th>  <th>[0.025</th>    <th>0.975]</th>  \n",
       "</tr>\n",
       "<tr>\n",
       "  <th>const</th>    <td>    1.2568</td> <td>    3.149</td> <td>    0.399</td> <td> 0.690</td> <td>   -4.915</td> <td>    7.429</td>\n",
       "</tr>\n",
       "<tr>\n",
       "  <th>age</th>      <td>    0.0170</td> <td>    0.028</td> <td>    0.600</td> <td> 0.549</td> <td>   -0.038</td> <td>    0.072</td>\n",
       "</tr>\n",
       "<tr>\n",
       "  <th>sex</th>      <td>   -2.0135</td> <td>    0.571</td> <td>   -3.527</td> <td> 0.000</td> <td>   -3.132</td> <td>   -0.895</td>\n",
       "</tr>\n",
       "<tr>\n",
       "  <th>cp</th>       <td>    0.6747</td> <td>    0.220</td> <td>    3.071</td> <td> 0.002</td> <td>    0.244</td> <td>    1.105</td>\n",
       "</tr>\n",
       "<tr>\n",
       "  <th>trtbps</th>   <td>   -0.0249</td> <td>    0.012</td> <td>   -2.036</td> <td> 0.042</td> <td>   -0.049</td> <td>   -0.001</td>\n",
       "</tr>\n",
       "<tr>\n",
       "  <th>chol</th>     <td>   -0.3268</td> <td>    0.231</td> <td>   -1.417</td> <td> 0.157</td> <td>   -0.779</td> <td>    0.125</td>\n",
       "</tr>\n",
       "<tr>\n",
       "  <th>fbs</th>      <td>    0.4935</td> <td>    0.650</td> <td>    0.759</td> <td> 0.448</td> <td>   -0.781</td> <td>    1.768</td>\n",
       "</tr>\n",
       "<tr>\n",
       "  <th>restecg</th>  <td>    0.5767</td> <td>    0.433</td> <td>    1.333</td> <td> 0.182</td> <td>   -0.271</td> <td>    1.424</td>\n",
       "</tr>\n",
       "<tr>\n",
       "  <th>thalachh</th> <td>    0.0282</td> <td>    0.013</td> <td>    2.158</td> <td> 0.031</td> <td>    0.003</td> <td>    0.054</td>\n",
       "</tr>\n",
       "<tr>\n",
       "  <th>exng</th>     <td>   -1.1463</td> <td>    0.516</td> <td>   -2.219</td> <td> 0.026</td> <td>   -2.159</td> <td>   -0.134</td>\n",
       "</tr>\n",
       "<tr>\n",
       "  <th>oldpeak</th>  <td>   -0.5347</td> <td>    0.500</td> <td>   -1.069</td> <td> 0.285</td> <td>   -1.515</td> <td>    0.446</td>\n",
       "</tr>\n",
       "<tr>\n",
       "  <th>slp</th>      <td>    0.5990</td> <td>    0.397</td> <td>    1.510</td> <td> 0.131</td> <td>   -0.178</td> <td>    1.376</td>\n",
       "</tr>\n",
       "<tr>\n",
       "  <th>caa</th>      <td>   -1.3050</td> <td>    0.315</td> <td>   -4.148</td> <td> 0.000</td> <td>   -1.922</td> <td>   -0.688</td>\n",
       "</tr>\n",
       "<tr>\n",
       "  <th>thall</th>    <td>   -0.9298</td> <td>    0.342</td> <td>   -2.717</td> <td> 0.007</td> <td>   -1.600</td> <td>   -0.259</td>\n",
       "</tr>\n",
       "</table>"
      ],
      "text/plain": [
       "<class 'statsmodels.iolib.summary.Summary'>\n",
       "\"\"\"\n",
       "                           Logit Regression Results                           \n",
       "==============================================================================\n",
       "Dep. Variable:                 output   No. Observations:                  212\n",
       "Model:                          Logit   Df Residuals:                      198\n",
       "Method:                           MLE   Df Model:                           13\n",
       "Date:                Wed, 21 Sep 2022   Pseudo R-squ.:                  0.4796\n",
       "Time:                        04:35:07   Log-Likelihood:                -75.878\n",
       "converged:                       True   LL-Null:                       -145.80\n",
       "Covariance Type:            nonrobust   LLR p-value:                 2.255e-23\n",
       "==============================================================================\n",
       "                 coef    std err          z      P>|z|      [0.025      0.975]\n",
       "------------------------------------------------------------------------------\n",
       "const          1.2568      3.149      0.399      0.690      -4.915       7.429\n",
       "age            0.0170      0.028      0.600      0.549      -0.038       0.072\n",
       "sex           -2.0135      0.571     -3.527      0.000      -3.132      -0.895\n",
       "cp             0.6747      0.220      3.071      0.002       0.244       1.105\n",
       "trtbps        -0.0249      0.012     -2.036      0.042      -0.049      -0.001\n",
       "chol          -0.3268      0.231     -1.417      0.157      -0.779       0.125\n",
       "fbs            0.4935      0.650      0.759      0.448      -0.781       1.768\n",
       "restecg        0.5767      0.433      1.333      0.182      -0.271       1.424\n",
       "thalachh       0.0282      0.013      2.158      0.031       0.003       0.054\n",
       "exng          -1.1463      0.516     -2.219      0.026      -2.159      -0.134\n",
       "oldpeak       -0.5347      0.500     -1.069      0.285      -1.515       0.446\n",
       "slp            0.5990      0.397      1.510      0.131      -0.178       1.376\n",
       "caa           -1.3050      0.315     -4.148      0.000      -1.922      -0.688\n",
       "thall         -0.9298      0.342     -2.717      0.007      -1.600      -0.259\n",
       "==============================================================================\n",
       "\"\"\""
      ]
     },
     "execution_count": 53,
     "metadata": {},
     "output_type": "execute_result"
    }
   ],
   "source": [
    "X = df.drop('output',axis = 1)\n",
    "Y = df[['output']]\n",
    "xtrain,xtest,ytrain,ytest = train_test_split(X,Y,test_size=0.3,random_state=5)\n",
    "xtrain['chol'] = SS.fit_transform(xtrain[['chol']] )\n",
    "xtest['chol'] = SS.transform(xtest[['chol']])\n",
    "xctrain = sm.add_constant(xtrain)\n",
    "lgm = sm.Logit(ytrain,xctrain).fit()\n",
    "lgm.summary()"
   ]
  },
  {
   "cell_type": "code",
   "execution_count": 54,
   "id": "5162803e",
   "metadata": {
    "id": "5162803e"
   },
   "outputs": [],
   "source": [
    "LR = LogisticRegression()"
   ]
  },
  {
   "cell_type": "code",
   "execution_count": 55,
   "id": "700bd140",
   "metadata": {
    "colab": {
     "base_uri": "https://localhost:8080/"
    },
    "id": "700bd140",
    "outputId": "4d302f1f-ae32-4c4e-e311-5668e75401b9"
   },
   "outputs": [
    {
     "data": {
      "text/plain": [
       "array([[ 74,  21],\n",
       "       [  9, 108]])"
      ]
     },
     "execution_count": 55,
     "metadata": {},
     "output_type": "execute_result"
    }
   ],
   "source": [
    "logm = LR.fit(xtrain,ytrain)\n",
    "confusion_matrix(ytrain,logm.predict(xtrain))"
   ]
  },
  {
   "cell_type": "code",
   "execution_count": 56,
   "id": "c162258a",
   "metadata": {
    "colab": {
     "base_uri": "https://localhost:8080/"
    },
    "id": "c162258a",
    "outputId": "28fc65a0-f50d-40e9-884d-9e57e66f8412"
   },
   "outputs": [
    {
     "data": {
      "text/plain": [
       "array([[39,  4],\n",
       "       [ 5, 43]])"
      ]
     },
     "execution_count": 56,
     "metadata": {},
     "output_type": "execute_result"
    }
   ],
   "source": [
    "confusion_matrix(ytest,logm.predict(xtest))"
   ]
  },
  {
   "cell_type": "code",
   "execution_count": 57,
   "id": "b0f53d25",
   "metadata": {
    "colab": {
     "base_uri": "https://localhost:8080/"
    },
    "id": "b0f53d25",
    "outputId": "026f0530-e9f4-4b62-d953-3f1953cdd11f"
   },
   "outputs": [
    {
     "name": "stdout",
     "output_type": "stream",
     "text": [
      "              precision    recall  f1-score   support\n",
      "\n",
      "           0       0.89      0.91      0.90        43\n",
      "           1       0.91      0.90      0.91        48\n",
      "\n",
      "    accuracy                           0.90        91\n",
      "   macro avg       0.90      0.90      0.90        91\n",
      "weighted avg       0.90      0.90      0.90        91\n",
      "\n"
     ]
    }
   ],
   "source": [
    "print(classification_report(ytest,logm.predict(xtest)))"
   ]
  },
  {
   "cell_type": "code",
   "execution_count": 58,
   "id": "895246c1",
   "metadata": {
    "id": "895246c1"
   },
   "outputs": [],
   "source": [
    "from sklearn.feature_selection import RFECV"
   ]
  },
  {
   "cell_type": "code",
   "execution_count": 59,
   "id": "046a94ea",
   "metadata": {
    "id": "046a94ea"
   },
   "outputs": [],
   "source": [
    "rfe = RFECV(LR,min_features_to_select=4)\n",
    "m = rfe.fit(X,Y)"
   ]
  },
  {
   "cell_type": "code",
   "execution_count": 60,
   "id": "5b0528c9",
   "metadata": {
    "colab": {
     "base_uri": "https://localhost:8080/"
    },
    "id": "5b0528c9",
    "outputId": "f94c9b81-ea00-4bef-b880-224d697200db"
   },
   "outputs": [
    {
     "data": {
      "text/plain": [
       "Index(['sex', 'cp', 'exng', 'oldpeak', 'slp', 'caa', 'thall'], dtype='object')"
      ]
     },
     "execution_count": 60,
     "metadata": {},
     "output_type": "execute_result"
    }
   ],
   "source": [
    "xtrain.columns[m.support_]"
   ]
  },
  {
   "cell_type": "markdown",
   "id": "CKB4X3YV5wyP",
   "metadata": {
    "id": "CKB4X3YV5wyP"
   },
   "source": [
    "# DecisionTreeClassifier"
   ]
  },
  {
   "cell_type": "code",
   "execution_count": 61,
   "id": "6d6efd2a",
   "metadata": {
    "colab": {
     "base_uri": "https://localhost:8080/",
     "height": 667
    },
    "id": "6d6efd2a",
    "outputId": "1c66b0d2-533f-421f-e74e-8ec1aa88a236"
   },
   "outputs": [
    {
     "name": "stdout",
     "output_type": "stream",
     "text": [
      "              precision    recall  f1-score   support\n",
      "\n",
      "           0       1.00      1.00      1.00        95\n",
      "           1       1.00      1.00      1.00       117\n",
      "\n",
      "    accuracy                           1.00       212\n",
      "   macro avg       1.00      1.00      1.00       212\n",
      "weighted avg       1.00      1.00      1.00       212\n",
      "\n",
      "              precision    recall  f1-score   support\n",
      "\n",
      "           0       0.70      0.74      0.72        43\n",
      "           1       0.76      0.71      0.73        48\n",
      "\n",
      "    accuracy                           0.73        91\n",
      "   macro avg       0.73      0.73      0.73        91\n",
      "weighted avg       0.73      0.73      0.73        91\n",
      "\n"
     ]
    },
    {
     "data": {
      "image/png": "[encoded data removed]",
      "text/plain": [
       "<Figure size 1080x360 with 2 Axes>"
      ]
     },
     "metadata": {},
     "output_type": "display_data"
    }
   ],
   "source": [
    "dt = DecisionTreeClassifier(random_state=5,class_weight='balanced')\n",
    "dtm = dt.fit(xtrain,ytrain)\n",
    "dt_ytrain = dtm.predict(xtrain)\n",
    "dt_ytest = dtm.predict(xtest)\n",
    "print(classification_report(ytrain,dt_ytrain))\n",
    "print(classification_report(ytest,dt_ytest))\n",
    "fig,ax = plt.subplots(1,2,figsize=(15,5))\n",
    "ConfusionMatrixDisplay.from_predictions(ytrain,dt_ytrain,ax=ax[0],cmap='Blues',values_format='d',colorbar=False)\n",
    "ConfusionMatrixDisplay.from_predictions(ytest,dt_ytest,ax=ax[1],cmap='Blues',values_format='d',colorbar=False);"
   ]
  },
  {
   "cell_type": "code",
   "execution_count": 62,
   "id": "1a2163c8",
   "metadata": {
    "id": "1a2163c8"
   },
   "outputs": [],
   "source": [
    "param_range = np.arange(1,12)\n",
    "train_scores, test_scores = validation_curve(\n",
    "    DecisionTreeClassifier(), xtrain, ytrain, param_name=\"max_depth\", param_range=param_range,n_jobs=1,cv=5,scoring='recall_weighted')\n",
    "train_scores_mean = np.mean(train_scores, axis=1)\n",
    "train_scores_std = np.std(train_scores, axis=1)\n",
    "test_scores_mean = np.mean(test_scores, axis=1)\n",
    "test_scores_std = np.std(test_scores, axis=1)"
   ]
  },
  {
   "cell_type": "code",
   "execution_count": 63,
   "id": "889d55a6",
   "metadata": {
    "colab": {
     "base_uri": "https://localhost:8080/",
     "height": 373
    },
    "id": "889d55a6",
    "outputId": "75c0a500-8f36-45d1-ec01-ab65018816b0"
   },
   "outputs": [
    {
     "name": "stderr",
     "output_type": "stream",
     "text": [
      "WARNING:matplotlib.legend:No handles with labels found to put in legend.\n"
     ]
    },
    {
     "data": {
      "image/png": "[encoded data removed]",
      "text/plain": [
       "<Figure size 720x360 with 1 Axes>"
      ]
     },
     "metadata": {},
     "output_type": "display_data"
    }
   ],
   "source": [
    "plt.title(\"Validation Curve with Decision Tree Regressor\")\n",
    "plt.xlabel(\"Depth\")\n",
    "plt.ylabel(\"Score\")\n",
    "plt.ylim(0.0, 1.1)\n",
    "lw = 2\n",
    "#plt.semilogx(param_range, train_scores_mean, label=\"Training score\",color=\"darkorange\", lw=lw)\n",
    "\n",
    "plt.fill_between(param_range, train_scores_mean - train_scores_std,\n",
    "                 train_scores_mean + train_scores_std, alpha=0.2,\n",
    "                 color=\"darkorange\", lw=lw)\n",
    "#plt.semilogx(param_range, test_scores_mean, label=\"Cross-validation score\",color=\"navy\", lw=lw)\n",
    "plt.fill_between(param_range, test_scores_mean - test_scores_std,\n",
    "                 test_scores_mean + test_scores_std, alpha=0.2,\n",
    "                 color=\"navy\", lw=lw)\n",
    "plt.legend(loc=\"best\")\n",
    "plt.show()"
   ]
  },
  {
   "cell_type": "code",
   "execution_count": 64,
   "id": "800eae07",
   "metadata": {
    "colab": {
     "base_uri": "https://localhost:8080/",
     "height": 667
    },
    "id": "800eae07",
    "outputId": "0db40e0c-76aa-4567-a235-1c8224246ed8"
   },
   "outputs": [
    {
     "name": "stdout",
     "output_type": "stream",
     "text": [
      "              precision    recall  f1-score   support\n",
      "\n",
      "           0       0.75      0.81      0.78        95\n",
      "           1       0.84      0.79      0.81       117\n",
      "\n",
      "    accuracy                           0.80       212\n",
      "   macro avg       0.80      0.80      0.80       212\n",
      "weighted avg       0.80      0.80      0.80       212\n",
      "\n",
      "              precision    recall  f1-score   support\n",
      "\n",
      "           0       0.74      0.74      0.74        43\n",
      "           1       0.77      0.77      0.77        48\n",
      "\n",
      "    accuracy                           0.76        91\n",
      "   macro avg       0.76      0.76      0.76        91\n",
      "weighted avg       0.76      0.76      0.76        91\n",
      "\n"
     ]
    },
    {
     "data": {
      "image/png": "[encoded data removed]",
      "text/plain": [
       "<Figure size 1080x360 with 2 Axes>"
      ]
     },
     "metadata": {},
     "output_type": "display_data"
    }
   ],
   "source": [
    "dt = DecisionTreeClassifier(random_state=5,class_weight='balanced',max_depth=2)\n",
    "dtm = dt.fit(xtrain,ytrain)\n",
    "dt_ytrain = dtm.predict(xtrain)\n",
    "dt_ytest = dtm.predict(xtest)\n",
    "print(classification_report(ytrain,dt_ytrain))\n",
    "print(classification_report(ytest,dt_ytest))\n",
    "fig,ax = plt.subplots(1,2,figsize=(15,5))\n",
    "ConfusionMatrixDisplay.from_predictions(ytrain,dt_ytrain,ax=ax[0],cmap='Blues',values_format='d',colorbar=False)\n",
    "ConfusionMatrixDisplay.from_predictions(ytest,dt_ytest,ax=ax[1],cmap='Blues',values_format='d',colorbar=False);"
   ]
  },
  {
   "cell_type": "markdown",
   "id": "aoAVHxCQ54VT",
   "metadata": {
    "id": "aoAVHxCQ54VT"
   },
   "source": [
    "# RandomForestClassifier"
   ]
  },
  {
   "cell_type": "code",
   "execution_count": 66,
   "id": "b695fdb5",
   "metadata": {
    "id": "b695fdb5"
   },
   "outputs": [],
   "source": [
    "from sklearn.model_selection import cross_validate,StratifiedKFold,GridSearchCV\n",
    "param = {'max_depth':np.arange(1,10),\n",
    "'n_estimators':[50,100],\n",
    "'min_samples_split':[2,4,6],\n",
    "'min_samples_leaf':[2,4,6],\n",
    "'max_leaf_nodes':[2,4,6]}\n",
    "kf = StratifiedKFold(n_splits=5,shuffle=True,random_state=5)\n",
    "grid = GridSearchCV(RandomForestClassifier(random_state=5),param_grid=param,scoring='recall_weighted')\n",
    "rf_grid = grid.fit(xtrain,ytrain)"
   ]
  },
  {
   "cell_type": "code",
   "execution_count": 67,
   "id": "70103615",
   "metadata": {
    "colab": {
     "base_uri": "https://localhost:8080/"
    },
    "id": "70103615",
    "outputId": "91b31556-6af4-49ef-c36d-59f584e46bea"
   },
   "outputs": [
    {
     "data": {
      "text/plain": [
       "{'max_depth': 3,\n",
       " 'max_leaf_nodes': 4,\n",
       " 'min_samples_leaf': 2,\n",
       " 'min_samples_split': 2,\n",
       " 'n_estimators': 50}"
      ]
     },
     "execution_count": 67,
     "metadata": {},
     "output_type": "execute_result"
    }
   ],
   "source": [
    "rf_grid.best_params_"
   ]
  },
  {
   "cell_type": "code",
   "execution_count": 70,
   "id": "2HzQBFqS-2jS",
   "metadata": {
    "colab": {
     "base_uri": "https://localhost:8080/"
    },
    "id": "2HzQBFqS-2jS",
    "outputId": "1836bc09-eac2-49c5-bc35-2d33e81cb116"
   },
   "outputs": [
    {
     "name": "stdout",
     "output_type": "stream",
     "text": [
      "              precision    recall  f1-score   support\n",
      "\n",
      "           0       0.93      0.88      0.90        43\n",
      "           1       0.90      0.94      0.92        48\n",
      "\n",
      "    accuracy                           0.91        91\n",
      "   macro avg       0.91      0.91      0.91        91\n",
      "weighted avg       0.91      0.91      0.91        91\n",
      "\n"
     ]
    }
   ],
   "source": [
    "print(classification_report(ytest,rf_grid.predict(xtest)))"
   ]
  },
  {
   "cell_type": "code",
   "execution_count": 92,
   "id": "dcbe064b",
   "metadata": {
    "id": "dcbe064b"
   },
   "outputs": [],
   "source": [
    "import pickle\n",
    "file_handle = open('heart_rf_grid.pkl','wb')\n",
    "pickle.dump(rf_grid,file_handle)\n",
    "from google.colab import files\n",
    "files.download('heart_rf_grid.pkl')"
   ]
  },
  {
   "cell_type": "code",
   "execution_count": 85,
   "id": "q9YVTl72n6ms",
   "metadata": {
    "colab": {
     "base_uri": "https://localhost:8080/",
     "height": 667
    },
    "id": "q9YVTl72n6ms",
    "outputId": "dd6923cb-22e7-4583-a5d0-f2562ec2e250"
   },
   "outputs": [
    {
     "name": "stdout",
     "output_type": "stream",
     "text": [
      "              precision    recall  f1-score   support\n",
      "\n",
      "           0       0.87      0.78      0.82        95\n",
      "           1       0.83      0.91      0.87       117\n",
      "\n",
      "    accuracy                           0.85       212\n",
      "   macro avg       0.85      0.84      0.85       212\n",
      "weighted avg       0.85      0.85      0.85       212\n",
      "\n",
      "              precision    recall  f1-score   support\n",
      "\n",
      "           0       0.93      0.88      0.90        43\n",
      "           1       0.90      0.94      0.92        48\n",
      "\n",
      "    accuracy                           0.91        91\n",
      "   macro avg       0.91      0.91      0.91        91\n",
      "weighted avg       0.91      0.91      0.91        91\n",
      "\n"
     ]
    },
    {
     "data": {
      "image/png": "[encoded data removed]",
      "text/plain": [
       "<Figure size 1080x360 with 2 Axes>"
      ]
     },
     "metadata": {},
     "output_type": "display_data"
    }
   ],
   "source": [
    "rf_ytrain = ml.predict(xtrain)\n",
    "rf_ytest = ml.predict(xtest)\n",
    "print(classification_report(ytrain,rf_ytrain))\n",
    "print(classification_report(ytest,rf_ytest))\n",
    "fig,ax = plt.subplots(1,2,figsize=(15,5))\n",
    "ConfusionMatrixDisplay.from_predictions(ytrain,rf_ytrain,ax=ax[0],cmap='Blues',values_format='d',colorbar=False)\n",
    "ConfusionMatrixDisplay.from_predictions(ytest,rf_ytest,ax=ax[1],cmap='Blues',values_format='d',colorbar=False);"
   ]
  },
  {
   "cell_type": "markdown",
   "id": "wP-TUbS_5_6p",
   "metadata": {
    "id": "wP-TUbS_5_6p"
   },
   "source": [
    "# XGBClassifier"
   ]
  },
  {
   "cell_type": "code",
   "execution_count": 81,
   "id": "5a0585b1",
   "metadata": {
    "id": "5a0585b1"
   },
   "outputs": [],
   "source": [
    "from sklearn.model_selection import cross_validate,StratifiedKFold,GridSearchCV\n",
    "param = {'max_depth':np.arange(1,10),\n",
    "'n_estimators':[50,100,150,200],\n",
    "'min_samples_split':[2,4,6],\n",
    "'min_samples_leaf':[2,4,6],\n",
    "'max_leaf_nodes':[2,4,6]}\n",
    "kf = StratifiedKFold(n_splits=5,shuffle=True,random_state=5)\n",
    "xg_grid = GridSearchCV(XGBClassifier(random_state=5),param_grid=param,scoring='recall_weighted')\n",
    "xg_grid = grid.fit(xtrain,ytrain)"
   ]
  },
  {
   "cell_type": "code",
   "execution_count": 82,
   "id": "aobCwDvcmUxv",
   "metadata": {
    "colab": {
     "base_uri": "https://localhost:8080/"
    },
    "id": "aobCwDvcmUxv",
    "outputId": "d2087817-375b-4b5c-96bd-ff180be368bd"
   },
   "outputs": [
    {
     "data": {
      "text/plain": [
       "{'max_depth': 2,\n",
       " 'max_leaf_nodes': 2,\n",
       " 'min_samples_leaf': 2,\n",
       " 'min_samples_split': 2,\n",
       " 'n_estimators': 100}"
      ]
     },
     "execution_count": 82,
     "metadata": {},
     "output_type": "execute_result"
    }
   ],
   "source": [
    "xg_grid.best_params_"
   ]
  },
  {
   "cell_type": "code",
   "execution_count": 83,
   "id": "hqkQx1WWmVjm",
   "metadata": {
    "colab": {
     "base_uri": "https://localhost:8080/",
     "height": 667
    },
    "id": "hqkQx1WWmVjm",
    "outputId": "48d0bbf6-472e-432a-e502-21a9a7c96546"
   },
   "outputs": [
    {
     "name": "stdout",
     "output_type": "stream",
     "text": [
      "              precision    recall  f1-score   support\n",
      "\n",
      "           0       0.93      0.92      0.92        95\n",
      "           1       0.93      0.94      0.94       117\n",
      "\n",
      "    accuracy                           0.93       212\n",
      "   macro avg       0.93      0.93      0.93       212\n",
      "weighted avg       0.93      0.93      0.93       212\n",
      "\n",
      "              precision    recall  f1-score   support\n",
      "\n",
      "           0       0.86      0.88      0.87        43\n",
      "           1       0.89      0.88      0.88        48\n",
      "\n",
      "    accuracy                           0.88        91\n",
      "   macro avg       0.88      0.88      0.88        91\n",
      "weighted avg       0.88      0.88      0.88        91\n",
      "\n"
     ]
    },
    {
     "data": {
      "image/png": "[encoded data removed]",
      "text/plain": [
       "<Figure size 1080x360 with 2 Axes>"
      ]
     },
     "metadata": {},
     "output_type": "display_data"
    }
   ],
   "source": [
    "xg_ytrain = xg_grid.predict(xtrain)\n",
    "xg_ytest = xg_grid.predict(xtest)\n",
    "print(classification_report(ytrain,xg_ytrain))\n",
    "print(classification_report(ytest,xg_ytest))\n",
    "fig,ax = plt.subplots(1,2,figsize=(15,5))\n",
    "ConfusionMatrixDisplay.from_predictions(ytrain,xg_ytrain,ax=ax[0],cmap='Blues',values_format='d',colorbar=False)\n",
    "ConfusionMatrixDisplay.from_predictions(ytest,xg_ytest,ax=ax[1],cmap='Blues',values_format='d',colorbar=False);"
   ]
  },
  {
   "cell_type": "code",
   "execution_count": 90,
   "id": "I0a1gvP0nt3n",
   "metadata": {
    "id": "I0a1gvP0nt3n"
   },
   "outputs": [],
   "source": [
    "pickle.dump(xg_grid,open('heart_xg_grid.pkl','wb'))"
   ]
  },
  {
   "cell_type": "code",
   "execution_count": 91,
   "id": "MdSGDS0apt86",
   "metadata": {
    "colab": {
     "base_uri": "https://localhost:8080/"
    },
    "id": "MdSGDS0apt86",
    "outputId": "30981b3d-10c6-41e7-d3f8-c4e6ce9d6ced"
   },
   "outputs": [
    {
     "data": {
      "text/plain": [
       "GridSearchCV(estimator=XGBClassifier(missing=nan, random_state=5),\n",
       "             param_grid={'max_depth': array([1, 2, 3, 4, 5, 6, 7, 8, 9]),\n",
       "                         'max_leaf_nodes': [2, 4, 6],\n",
       "                         'min_samples_leaf': [2, 4, 6],\n",
       "                         'min_samples_split': [2, 4, 6],\n",
       "                         'n_estimators': [50, 100]},\n",
       "             scoring='recall_weighted')"
      ]
     },
     "execution_count": 91,
     "metadata": {},
     "output_type": "execute_result"
    }
   ],
   "source": [
    "ml = pickle.load(open('heart_xg_grid.pkl','rb'))\n",
    "ml"
   ]
  },
  {
   "cell_type": "code",
   "execution_count": 94,
   "id": "_VRJtQCgqC7N",
   "metadata": {
    "colab": {
     "base_uri": "https://localhost:8080/",
     "height": 17
    },
    "id": "_VRJtQCgqC7N",
    "outputId": "6ef6bf33-6fcf-4411-eb1d-18ad15e56ee1"
   },
   "outputs": [
    {
     "data": {
      "application/javascript": [
       "\n",
       "    async function download(id, filename, size) {\n",
       "      if (!google.colab.kernel.accessAllowed) {\n",
       "        return;\n",
       "      }\n",
       "      const div = document.createElement('div');\n",
       "      const label = document.createElement('label');\n",
       "      label.textContent = `Downloading \"${filename}\": `;\n",
       "      div.appendChild(label);\n",
       "      const progress = document.createElement('progress');\n",
       "      progress.max = size;\n",
       "      div.appendChild(progress);\n",
       "      document.body.appendChild(div);\n",
       "\n",
       "      const buffers = [];\n",
       "      let downloaded = 0;\n",
       "\n",
       "      const channel = await google.colab.kernel.comms.open(id);\n",
       "      // Send a message to notify the kernel that we're ready.\n",
       "      channel.send({})\n",
       "\n",
       "      for await (const message of channel.messages) {\n",
       "        // Send a message to notify the kernel that we're ready.\n",
       "        channel.send({})\n",
       "        if (message.buffers) {\n",
       "          for (const buffer of message.buffers) {\n",
       "            buffers.push(buffer);\n",
       "            downloaded += buffer.byteLength;\n",
       "            progress.value = downloaded;\n",
       "          }\n",
       "        }\n",
       "      }\n",
       "      const blob = new Blob(buffers, {type: 'application/binary'});\n",
       "      const a = document.createElement('a');\n",
       "      a.href = window.URL.createObjectURL(blob);\n",
       "      a.download = filename;\n",
       "      div.appendChild(a);\n",
       "      a.click();\n",
       "      div.remove();\n",
       "    }\n",
       "  "
      ],
      "text/plain": [
       "<IPython.core.display.Javascript object>"
      ]
     },
     "metadata": {},
     "output_type": "display_data"
    },
    {
     "data": {
      "application/javascript": [
       "download(\"download_4605d4db-6f20-40d3-9408-6a6a40c4731b\", \"heart_xg_grid.pkl\", 110214)"
      ],
      "text/plain": [
       "<IPython.core.display.Javascript object>"
      ]
     },
     "metadata": {},
     "output_type": "display_data"
    }
   ],
   "source": [
    "from google.colab import files\n",
    "files.download('heart_xg_grid.pkl')"
   ]
  },
  {
   "cell_type": "markdown",
   "id": "aoUdk6WlvwNW",
   "metadata": {
    "id": "aoUdk6WlvwNW"
   },
   "source": [
    "#### The tunned model of RandomForestClassifier has the highest accuracy(91%) and recall of 91%"
   ]
  },
  {
   "cell_type": "code",
   "execution_count": 101,
   "id": "CmWrZWu7zB_W",
   "metadata": {
    "colab": {
     "base_uri": "https://localhost:8080/"
    },
    "id": "CmWrZWu7zB_W",
    "outputId": "dde7f447-e309-420e-dac1-1b587a834286"
   },
   "outputs": [
    {
     "data": {
      "text/plain": [
       "91.20879120879121"
      ]
     },
     "execution_count": 101,
     "metadata": {},
     "output_type": "execute_result"
    }
   ],
   "source": [
    "accuracy_score(ytest,rf_ytest)*100"
   ]
  }
 ],
 "metadata": {
  "colab": {
   "collapsed_sections": [
    "5c441df3",
    "0a5f9ede",
    "3f76c827",
    "4039ab65"
   ],
   "provenance": []
  },
  "kernelspec": {
   "display_name": "Python 3 (ipykernel)",
   "language": "python",
   "name": "python3"
  },
  "language_info": {
   "codemirror_mode": {
    "name": "ipython",
    "version": 3
   },
   "file_extension": ".py",
   "mimetype": "text/x-python",
   "name": "python",
   "nbconvert_exporter": "python",
   "pygments_lexer": "ipython3",
   "version": "3.9.7"
  }
 },
 "nbformat": 4,
 "nbformat_minor": 5
}
